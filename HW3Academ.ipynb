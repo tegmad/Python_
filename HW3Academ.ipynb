{
 "cells": [
  {
   "cell_type": "raw",
   "id": "5dab1964-fa11-4840-9cef-1b9a47998cbd",
   "metadata": {},
   "source": [
    "#HW3\n",
    "Задание 1: Словари\n",
    "\n",
    "1. Создайте словарь, представляющий ваш любимый фильм. Включите такие ключи, как 'название', 'год выпуска', 'жанр' и 'режиссер'.\n",
    "\n",
    "2. Добавьте в словарь список актеров в ключ 'актеры'.\n",
    "\n",
    "3. Напишите код, который выводит информацию о фильме в форматированном виде.\n",
    "\n",
    "\n",
    "\n",
    "Задание 2: Кортежи\n",
    "\n",
    "1. Создайте кортеж, содержащий различные типы данных (числа, строки, булевы значения).\n",
    "\n",
    "2. Напишите код, который выводит каждый элемент кортежа на отдельной строке с указанием его типа (используйте type()).\n",
    "\n",
    "\n",
    "\n",
    "Задание 3: Условный оператор IF\n",
    "\n",
    "1. Напишите программу, которая запрашивает у пользователя число.\n",
    "\n",
    "2. Используйте условный оператор if, чтобы определить, является ли число четным или нечетным, и выведите соответствующее сообщение.\n",
    "\n",
    "\n",
    "\n",
    "Задание 4: Ввод данных\n",
    "\n",
    "1. Напишите программу, которая запрашивает у пользователя его имя и любимый цвет.\n",
    "\n",
    "2. Пусть программа выводит сообщение вида \"Привет, [имя]! Твой любимый цвет - [цвет].\""
   ]
  },
  {
   "cell_type": "code",
   "execution_count": 19,
   "id": "15007026-8bf7-45ec-af89-94be2cc595a6",
   "metadata": {},
   "outputs": [
    {
     "name": "stdout",
     "output_type": "stream",
     "text": [
      "pulication_year is  2014\n",
      "genre is  Action, Adventure, Science fiction, Thriller, Suspance, Mystery, Drama\n",
      "director is  Christopher Nolan\n",
      "Actors is  Matthew McConaughey, Mackenzie Foy\n"
     ]
    }
   ],
   "source": [
    "Intersteller = {\n",
    "    'pulication_year': 2014,\n",
    "    'genre':'Action, Adventure, Science fiction, Thriller, Suspance, Mystery, Drama',\n",
    "    'director': 'Christopher Nolan',\n",
    "    'Actors': 'Matthew McConaughey, Mackenzie Foy'\n",
    "}\n",
    "\n",
    "for key, values in Intersteller.items():\n",
    "    print(key + ' is ',values)"
   ]
  },
  {
   "cell_type": "code",
   "execution_count": 27,
   "id": "3601bc1e-0e92-45bb-b2fc-32c3f607a499",
   "metadata": {},
   "outputs": [
    {
     "name": "stdout",
     "output_type": "stream",
     "text": [
      "1 has a type value ->  <class 'int'>\n",
      "2 has a type value ->  <class 'int'>\n",
      "2.5 has a type value ->  <class 'float'>\n",
      "Madi has a type value ->  <class 'str'>\n",
      "[1, 2, 3, 4] has a type value ->  <class 'list'>\n",
      "{'student_name': 'Madi'} has a type value ->  <class 'dict'>\n",
      "(1, 2, 3, 4) has a type value ->  <class 'tuple'>\n"
     ]
    }
   ],
   "source": [
    "tuple2 = (1, 2 , 2.5, 'Madi', [1,2,3,4], {'student_name':'Madi'}, (1,2,3,4))\n",
    "\n",
    "for i in tuple2:\n",
    "    print(str(i) +' has a type value -> ', type(i))"
   ]
  },
  {
   "cell_type": "code",
   "execution_count": 40,
   "id": "0b12d561-3a0d-437f-a8ac-bc63bbfbfc16",
   "metadata": {},
   "outputs": [
    {
     "name": "stdin",
     "output_type": "stream",
     "text": [
      "Please enter any number:  10\n"
     ]
    },
    {
     "name": "stdout",
     "output_type": "stream",
     "text": [
      "Your number (10) is even number\n"
     ]
    }
   ],
   "source": [
    "number = int(input('Please enter any number: '))\n",
    "if number % 2 == 0:\n",
    "    print(f\"Your number ({number}) is even number\")\n",
    "else:\n",
    "    print(f\"Your number ({number}) is odd number\")"
   ]
  },
  {
   "cell_type": "code",
   "execution_count": 50,
   "id": "f585d1dd-ab9c-4106-bebc-9fa29c122d37",
   "metadata": {},
   "outputs": [
    {
     "name": "stdin",
     "output_type": "stream",
     "text": [
      "What is your name and color:  Madi , Green\n"
     ]
    },
    {
     "name": "stdout",
     "output_type": "stream",
     "text": [
      "Hello Madi! Your favourite color is - Green\n"
     ]
    }
   ],
   "source": [
    "info = input('What is your name and color: ')\n",
    "list1 = info.split()\n",
    "print(f'Hello {list1[0]}! Your favourite color is - {list1[2]}')"
   ]
  },
  {
   "cell_type": "code",
   "execution_count": 58,
   "id": "bfc4c94d-1bf2-4b51-a439-8be53f26258a",
   "metadata": {},
   "outputs": [
    {
     "name": "stdin",
     "output_type": "stream",
     "text": [
      "Please enter any number:  13\n"
     ]
    },
    {
     "name": "stdout",
     "output_type": "stream",
     "text": [
      "[0, 1, 4, 9, 16, 25, 36, 49, 64, 81, 100, 121, 144, 169]\n"
     ]
    }
   ],
   "source": [
    "squares = []\n",
    "\n",
    "number  = int(input('Please enter any number: '))\n",
    "\n",
    "for i in range(number+1):\n",
    "    squares.append(i**2)\n",
    "print(squares)"
   ]
  },
  {
   "cell_type": "code",
   "execution_count": 98,
   "id": "572dc2ba-299e-47f4-bceb-c8d976d1598f",
   "metadata": {},
   "outputs": [
    {
     "name": "stdin",
     "output_type": "stream",
     "text": [
      "please enter text:  Madi tegisevks\n"
     ]
    },
    {
     "name": "stdout",
     "output_type": "stream",
     "text": [
      "0\n"
     ]
    }
   ],
   "source": [
    "count = 0 \n",
    "\n",
    "text = input('please enter text: ')\n",
    "\n",
    "splited_text = text.split()\n",
    "\n",
    "vowers = 'ayeoiuAYEOIU'\n",
    "\n",
    "for i in range(len(splited_text)):\n",
    "    if splited_text[i][0] in vowers:\n",
    "        count +=1 \n",
    "\n",
    "\n",
    "print(count) "
   ]
  },
  {
   "cell_type": "code",
   "execution_count": 116,
   "id": "0aa7c267-5cbf-4165-aae2-e36b52f9bf7a",
   "metadata": {},
   "outputs": [
    {
     "name": "stdout",
     "output_type": "stream",
     "text": [
      "Не простое число\n"
     ]
    }
   ],
   "source": [
    "count = 0\n",
    "num = 57\n",
    "for i in range(1,num + 1):\n",
    "    if i == 0 :\n",
    "        break\n",
    "    if num % i == 0:\n",
    "        count+= 1\n",
    "\n",
    "if count == 2:\n",
    "    print('Простое число')\n",
    "else:\n",
    "    print('Не простое число')"
   ]
  },
  {
   "cell_type": "code",
   "execution_count": null,
   "id": "d4507e88-ece1-4ec5-abb6-52da3d6167f4",
   "metadata": {},
   "outputs": [],
   "source": []
  }
 ],
 "metadata": {
  "kernelspec": {
   "display_name": "Python 3 (ipykernel)",
   "language": "python",
   "name": "python3"
  },
  "language_info": {
   "codemirror_mode": {
    "name": "ipython",
    "version": 3
   },
   "file_extension": ".py",
   "mimetype": "text/x-python",
   "name": "python",
   "nbconvert_exporter": "python",
   "pygments_lexer": "ipython3",
   "version": "3.12.4"
  }
 },
 "nbformat": 4,
 "nbformat_minor": 5
}
