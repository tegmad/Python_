{
 "cells": [
  {
   "cell_type": "code",
   "execution_count": 14,
   "id": "20df9b82-d60f-41c6-a268-090e2e7580eb",
   "metadata": {},
   "outputs": [
    {
     "data": {
      "text/plain": [
       "'The output value is ->  5'"
      ]
     },
     "execution_count": 14,
     "metadata": {},
     "output_type": "execute_result"
    }
   ],
   "source": [
    "x = 5.12\n",
    "f\"The output value is -> {x: .0f}\""
   ]
  },
  {
   "cell_type": "markdown",
   "id": "73bd273b-0235-4849-b16e-a4b60190fbd9",
   "metadata": {},
   "source": [
    "Home work  # 1"
   ]
  },
  {
   "cell_type": "code",
   "execution_count": 20,
   "id": "de04f528-8f54-4424-87d9-9b05dd89cbbc",
   "metadata": {},
   "outputs": [
    {
     "name": "stdout",
     "output_type": "stream",
     "text": [
      "text containts: Hello, World!\n"
     ]
    }
   ],
   "source": [
    "first_str = 'Hello, World!'\n",
    "print(f\"text containts: {first_str}\")"
   ]
  },
  {
   "cell_type": "code",
   "execution_count": 22,
   "id": "0da23b6a-0930-4ce8-b469-38a0744abbc2",
   "metadata": {},
   "outputs": [
    {
     "name": "stdout",
     "output_type": "stream",
     "text": [
      "Hello Madi, I hope you're doing well\n"
     ]
    }
   ],
   "source": [
    "first_str = \"Hello Madi, I hope you're doing well\"\n",
    "print(first_str)"
   ]
  },
  {
   "cell_type": "code",
   "execution_count": 36,
   "id": "d7da4fab-cca1-40b8-a19b-3caf60753ba3",
   "metadata": {},
   "outputs": [
    {
     "name": "stdout",
     "output_type": "stream",
     "text": [
      "Madi\n",
      "Tegisbek\n",
      "madi tegisbek\n",
      "MADI TEGISBEK\n"
     ]
    }
   ],
   "source": [
    "name = 'Madi'\n",
    "surname = 'Tegisbek'\n",
    "full_name = name + ' ' + surname\n",
    "capitalized1 = name.capitalize()\n",
    "capitalized2 = surname.capitalize()\n",
    "lower = full_name.lower()\n",
    "upper = full_name.upper()\n",
    "print(capitalized1)\n",
    "print(capitalized2)\n",
    "print(lower)\n",
    "print(upper)"
   ]
  },
  {
   "cell_type": "code",
   "execution_count": 76,
   "id": "fcb4db97-f249-4b94-a894-ed9980a5b2b2",
   "metadata": {},
   "outputs": [
    {
     "name": "stdout",
     "output_type": "stream",
     "text": [
      "K \n",
      " a \n",
      "  i \n",
      "   r \n",
      "    a \n",
      "     t\n"
     ]
    }
   ],
   "source": [
    "print(\"K \\n a \\n  i \\n   r \\n    a \\n     t\")"
   ]
  },
  {
   "cell_type": "code",
   "execution_count": 80,
   "id": "81258732-30bf-4c55-8831-56f261d46fca",
   "metadata": {},
   "outputs": [
    {
     "name": "stdout",
     "output_type": "stream",
     "text": [
      "My favourite number is -> 9\n"
     ]
    }
   ],
   "source": [
    "my_fav_num = 9\n",
    "print(f\"My favourite number is -> {my_fav_num}\")"
   ]
  },
  {
   "cell_type": "code",
   "execution_count": 86,
   "id": "bec2522f-367d-40f3-9131-d2bc91c6a020",
   "metadata": {},
   "outputs": [
    {
     "name": "stdout",
     "output_type": "stream",
     "text": [
      "8\n",
      "8\n",
      "8\n",
      "8\n"
     ]
    }
   ],
   "source": [
    "import math \n",
    "print(4+4)\n",
    "print(10-2)\n",
    "print(4*2)\n",
    "print(int(10/1.25))"
   ]
  },
  {
   "cell_type": "code",
   "execution_count": null,
   "id": "a3144023-87e1-43cf-bdcd-80c67bf78fab",
   "metadata": {},
   "outputs": [],
   "source": []
  }
 ],
 "metadata": {
  "kernelspec": {
   "display_name": "Python 3 (ipykernel)",
   "language": "python",
   "name": "python3"
  },
  "language_info": {
   "codemirror_mode": {
    "name": "ipython",
    "version": 3
   },
   "file_extension": ".py",
   "mimetype": "text/x-python",
   "name": "python",
   "nbconvert_exporter": "python",
   "pygments_lexer": "ipython3",
   "version": "3.12.4"
  }
 },
 "nbformat": 4,
 "nbformat_minor": 5
}
