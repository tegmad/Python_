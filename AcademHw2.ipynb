{
 "cells": [
  {
   "cell_type": "code",
   "execution_count": 16,
   "id": "730e8c7f-f7a3-4752-9119-b811ead58e68",
   "metadata": {},
   "outputs": [
    {
     "name": "stdout",
     "output_type": "stream",
     "text": [
      "I would play football with Ronaldo\n",
      "I would play football with Madi\n",
      "I would play football with Ishowspeed\n"
     ]
    }
   ],
   "source": [
    "list = ['Ronaldo', 'Madi', 'Ishowspeed']\n",
    "for i in list :\n",
    "    print(f'I would play football with {i}')"
   ]
  },
  {
   "cell_type": "code",
   "execution_count": 18,
   "id": "cc633392-0698-4653-a71e-2e13343eaf1a",
   "metadata": {},
   "outputs": [
    {
     "name": "stdout",
     "output_type": "stream",
     "text": [
      "Приглашаю тебя Galymzhan, на ужин!\n",
      "Приглашаю тебя Nauryzbay, на ужин!\n",
      "Приглашаю тебя Aierke, на ужин!\n"
     ]
    }
   ],
   "source": [
    "guests_list = ['Galymzhan', 'Nauryzbay', 'Aierke']\n",
    "for x in guests_list:\n",
    "    print(f\"Приглашаю тебя {x}, на ужин!\")"
   ]
  },
  {
   "cell_type": "code",
   "execution_count": 20,
   "id": "7182e1ff-f301-43d9-b4fd-6f442bbbe944",
   "metadata": {},
   "outputs": [],
   "source": [
    "guests_list.insert(0, 'Madi')\n",
    "guests_list.insert(2, 'Alisher')\n",
    "guests_list.append('Alikhan')"
   ]
  },
  {
   "cell_type": "code",
   "execution_count": 10,
   "id": "37b23ce9-104a-484e-a590-c06e47b62cdd",
   "metadata": {},
   "outputs": [
    {
     "name": "stdout",
     "output_type": "stream",
     "text": [
      "Приглашаю тебя, Madi на обед!\n",
      "Приглашаю тебя, Galymzhan на обед!\n",
      "Приглашаю тебя, Alisher на обед!\n",
      "Приглашаю тебя, Nauryzbay на обед!\n",
      "Приглашаю тебя, Aierke на обед!\n",
      "Приглашаю тебя, Alikhan на обед!\n"
     ]
    }
   ],
   "source": [
    "for i in guests_list:\n",
    "    print(f\"Приглашаю тебя, {i} на обед!\")"
   ]
  },
  {
   "cell_type": "code",
   "execution_count": 22,
   "id": "ec153fa1-0ea7-4abe-9276-6a4a4ad9d29d",
   "metadata": {},
   "outputs": [
    {
     "name": "stdout",
     "output_type": "stream",
     "text": [
      "Сожалею об отмене приглашения Madi,  на обед\n",
      "Сожалею об отмене приглашения Galymzhan,  на обед\n",
      "Сожалею об отмене приглашения Alisher,  на обед\n",
      "Сожалею об отмене приглашения Nauryzbay,  на обед\n"
     ]
    }
   ],
   "source": [
    "x = len(guests_list)\n",
    "while x >2:\n",
    "    print(f\"Сожалею об отмене приглашения {guests_list.pop(0)},  на обед\")\n",
    "    x -= 1 \n",
    "    "
   ]
  },
  {
   "cell_type": "code",
   "execution_count": 26,
   "id": "b5c92adf-8e01-4e75-9961-704ebff37cbf",
   "metadata": {},
   "outputs": [
    {
     "name": "stdout",
     "output_type": "stream",
     "text": [
      "['Saudi Arabia', 'Singapure', 'Canada', 'Japan', 'UK']\n"
     ]
    }
   ],
   "source": [
    "country = ['Saudi Arabia', 'Singapure', 'Canada', 'Japan', 'UK']\n",
    "print(country)"
   ]
  },
  {
   "cell_type": "code",
   "execution_count": 30,
   "id": "78aaa242-31e5-4961-a2e7-d9c243b2eaea",
   "metadata": {},
   "outputs": [
    {
     "name": "stdout",
     "output_type": "stream",
     "text": [
      "['Canada', 'Japan', 'Saudi Arabia', 'Singapure', 'UK']\n"
     ]
    }
   ],
   "source": [
    "country.sort()\n",
    "print(country)"
   ]
  },
  {
   "cell_type": "code",
   "execution_count": 32,
   "id": "1d1608ac-b7bd-4600-8e44-5be700b9028f",
   "metadata": {},
   "outputs": [
    {
     "name": "stdout",
     "output_type": "stream",
     "text": [
      "['UK', 'Singapure', 'Saudi Arabia', 'Japan', 'Canada']\n"
     ]
    }
   ],
   "source": [
    "country.sort(reverse=True)\n",
    "print(country)"
   ]
  },
  {
   "cell_type": "code",
   "execution_count": null,
   "id": "07eb5b84-806e-4884-b73f-dc8d7ed25d3d",
   "metadata": {},
   "outputs": [],
   "source": []
  }
 ],
 "metadata": {
  "kernelspec": {
   "display_name": "Python 3 (ipykernel)",
   "language": "python",
   "name": "python3"
  },
  "language_info": {
   "codemirror_mode": {
    "name": "ipython",
    "version": 3
   },
   "file_extension": ".py",
   "mimetype": "text/x-python",
   "name": "python",
   "nbconvert_exporter": "python",
   "pygments_lexer": "ipython3",
   "version": "3.12.4"
  }
 },
 "nbformat": 4,
 "nbformat_minor": 5
}
