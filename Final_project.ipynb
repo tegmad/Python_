{
 "cells": [
  {
   "cell_type": "raw",
   "id": "ce846955-c2ab-4cd2-aa8f-17c16f3a5bba",
   "metadata": {},
   "source": [
    "Вам дан файл users.txt. Вы должны сделать следующие действия:\n",
    "\n",
    "1) Прочитать этот файл построчно. Пожалуйста, используйте для этого try catch. Если файл не найден, напечатайте следующий текст: «the file that you would like to read is not found». Для любых других ошибок, пожалуйста, напечатайте следующее сообщение: \"some error occured\"\n",
    "     \n",
    "     \n",
    "2) Создайте класс Users со следующими атрибутами и функциями:\n",
    "\n",
    "     a) имя\n",
    "     \n",
    "     b) фамилия\n",
    "     \n",
    "     c) год рождения\n",
    "     \n",
    "     d) адрес электронной почты\n",
    "     \n",
    "     e) getAge(): возвращает возраст пользователя, принимая во внимание, что текущий год 2023\n",
    "     \n",
    "     \n",
    "3) преобразовать каждую строку файла в объект класса Users и сохранить их все в списке. Чтобы разделить слова, разделенные запятой, используйте функцию split(). Например, если: s = \"a,b,c\", тогда t = s.split(',') вернет ['a', 'b', 'c']. Таким образом разделите данные в каждой строке на отдельные части и присвойте эти значения атрибутам класса «Users».\n",
    "\n",
    "\n",
    "4) написать функцию filter(low, high, users), которая будет принимать параметры по умолчанию \"low\"=30, \"high\"=50 и простой параметр - список объектов класса Users. Функция должна пройтись по всем пользователям и проверить возраст с параметрами low и high. Мы должны вернуть только тех пользователей, чей возраст выше нижнего параметра low и ниже верхнего параметра high. Распечатайте их адрес электронной почты и возраст. Пожалуйста, разделите данные (адрес электронной почты и возраст) запятой. Затем вызовите эту функцию."
   ]
  },
  {
   "cell_type": "code",
   "execution_count": 18,
   "id": "230140dd-8522-42e7-b4d7-61fea44eb071",
   "metadata": {},
   "outputs": [
    {
     "name": "stdout",
     "output_type": "stream",
     "text": [
      "1,Magzhan,Kairanbay,magzhan.kairanbay@gmail.com,1991\n",
      "\n",
      "2,John,See,john.see@gmail.com,1981\n",
      "\n",
      "3,Lim,Kim,lim.kim@gmail.com,1997\n",
      "\n",
      "4,Andrew,Ng,andrew.ng@gmail.com,1971\n",
      "\n",
      "5,Andrey,Karpathy,andrey.karpathy@gmail.com,1981\n",
      "\n",
      "6,Jackie,Chan,jeckie.chan@gmail.com,1951\n",
      "\n",
      "7,Clarence,Lim,clarence.lim@gmail.com,1985\n",
      "\n",
      "8,Ryan,Jack,ryan.jack@gmail.com,1994\n",
      "\n",
      "9,Jonattan,Clark,jonattan.clark@gmail.com,2000\n",
      "\n",
      "10,Chris,Brown,chris.brown@gmail.com,1989\n",
      "\n",
      "11,Justin,Bieber,justin.bieber@gmail.com,1992\n"
     ]
    }
   ],
   "source": [
    "# 1 Task\n",
    "def file_read_by_lines():\n",
    "    try:\n",
    "        with open('users.txt', 'r') as file:\n",
    "            for line in file:\n",
    "                print(line)\n",
    "            \n",
    "    except FileNotFoundError:\n",
    "        print('the file that you would like to read is not found')\n",
    "    except Exeption:\n",
    "        print('some error occured')\n",
    "        \n",
    "file_read_by_lines()"
   ]
  },
  {
   "cell_type": "code",
   "execution_count": 17,
   "id": "e4e0c23f-9fb5-4a8a-9a59-384bebf3d573",
   "metadata": {},
   "outputs": [],
   "source": [
    "# 2 Task\n",
    "class Users:\n",
    "    def __init__(self, name, surname, birth_year, email):\n",
    "        self.user_name = name\n",
    "        self.user_surname = surname\n",
    "        self.birth_year = int(birth_year)\n",
    "        self.email = email\n",
    "\n",
    "    def getage(self):\n",
    "        return 2023 - self.birth_year"
   ]
  },
  {
   "cell_type": "code",
   "execution_count": 29,
   "id": "94ac8a51-e4fa-45be-8761-5e6227d3c521",
   "metadata": {},
   "outputs": [
    {
     "name": "stdout",
     "output_type": "stream",
     "text": [
      "['1', 'Magzhan', 'Kairanbay', 'magzhan.kairanbay@gmail.com', '1991']\n",
      "['2', 'John', 'See', 'john.see@gmail.com', '1981']\n",
      "['3', 'Lim', 'Kim', 'lim.kim@gmail.com', '1997']\n",
      "['4', 'Andrew', 'Ng', 'andrew.ng@gmail.com', '1971']\n",
      "['5', 'Andrey', 'Karpathy', 'andrey.karpathy@gmail.com', '1981']\n",
      "['6', 'Jackie', 'Chan', 'jeckie.chan@gmail.com', '1951']\n",
      "['7', 'Clarence', 'Lim', 'clarence.lim@gmail.com', '1985']\n",
      "['8', 'Ryan', 'Jack', 'ryan.jack@gmail.com', '1994']\n",
      "['9', 'Jonattan', 'Clark', 'jonattan.clark@gmail.com', '2000']\n",
      "['10', 'Chris', 'Brown', 'chris.brown@gmail.com', '1989']\n",
      "['11', 'Justin', 'Bieber', 'justin.bieber@gmail.com', '1992']\n"
     ]
    }
   ],
   "source": [
    "user_list = []\n",
    "\n",
    "try:\n",
    "    with open('users.txt', 'r') as file:\n",
    "        for line in file:\n",
    "            data = line.strip().split(',')\n",
    "            print(data)  # Вывод данных для проверки\n",
    "            if len(data) == 5:\n",
    "                user_id, user_name, user_surname, user_email, user_birth_day = data\n",
    "                user = Users(user_name, user_surname, user_birth_day, user_email)  # Создаем объект Users\n",
    "                user_list.append(user)  # Добавляем объект в список\n",
    "                \n",
    "except FileNotFoundError:\n",
    "    print('There is no such a file')\n",
    "except Exception as e:\n",
    "    print(f'Error: {e}')"
   ]
  },
  {
   "cell_type": "code",
   "execution_count": 41,
   "id": "6ea339ea-3128-4a47-bf54-061270950bc1",
   "metadata": {},
   "outputs": [
    {
     "name": "stdout",
     "output_type": "stream",
     "text": [
      "magzhan.kairanbay@gmail.com, 32\n",
      "john.see@gmail.com, 42\n",
      "andrey.karpathy@gmail.com, 42\n",
      "clarence.lim@gmail.com, 38\n",
      "chris.brown@gmail.com, 34\n",
      "justin.bieber@gmail.com, 31\n"
     ]
    }
   ],
   "source": [
    "# 4 Task\n",
    "\n",
    "def filter(low=30,high=50, users=[]):\n",
    "    for user in users:\n",
    "        age = user.getage()\n",
    "        if low < age < high:\n",
    "            print(f\"{user.email}, {age}\")\n",
    "\n",
    "\n",
    "filter(users=user_list)"
   ]
  },
  {
   "cell_type": "code",
   "execution_count": null,
   "id": "c1d970c0-f182-4b6b-847c-2d2bd55e1460",
   "metadata": {},
   "outputs": [],
   "source": []
  }
 ],
 "metadata": {
  "kernelspec": {
   "display_name": "Python 3 (ipykernel)",
   "language": "python",
   "name": "python3"
  },
  "language_info": {
   "codemirror_mode": {
    "name": "ipython",
    "version": 3
   },
   "file_extension": ".py",
   "mimetype": "text/x-python",
   "name": "python",
   "nbconvert_exporter": "python",
   "pygments_lexer": "ipython3",
   "version": "3.12.4"
  }
 },
 "nbformat": 4,
 "nbformat_minor": 5
}
