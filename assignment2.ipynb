{
 "cells": [
  {
   "cell_type": "markdown",
   "id": "ad47eb6c",
   "metadata": {},
   "source": [
    "# Assignment 2\n",
    "Download the file `athlete_events.csv` from [here](https://drive.google.com/file/d/1B8XjyPA23Zg5-zLL02pAVU-avQeMQYJP/view?usp=sharing). The dataset has the following features:\n",
    "\n",
    "- __ID__ - Unique number for each athlete\n",
    "- __Name__ - Athlete's name\n",
    "- __Sex__ - M or F\n",
    "- __Age__ - Integer\n",
    "- __Height__ - In centimeters\n",
    "- __Weight__ - In kilograms\n",
    "- __Team__ - Team name\n",
    "- __NOC__ - National Olympic Committee 3-letter code\n",
    "- __Games__ - Year and season\n",
    "- __Year__ - Integer\n",
    "- __Season__ - Summer or Winter\n",
    "- __City__ - Host city\n",
    "- __Sport__ - Sport\n",
    "- __Event__ - Event\n",
    "- __Medal__ - Gold, Silver, Bronze, or NA"
   ]
  },
  {
   "cell_type": "code",
   "execution_count": 5,
   "id": "b8d3c4dd",
   "metadata": {},
   "outputs": [],
   "source": [
    "import pandas as pd"
   ]
  },
  {
   "cell_type": "code",
   "execution_count": 9,
   "id": "f83fc38a",
   "metadata": {},
   "outputs": [],
   "source": [
    "PATH = 'athlete_events.csv'"
   ]
  },
  {
   "cell_type": "code",
   "execution_count": 25,
   "id": "157dfd76",
   "metadata": {},
   "outputs": [
    {
     "data": {
      "text/html": [
       "<div>\n",
       "<style scoped>\n",
       "    .dataframe tbody tr th:only-of-type {\n",
       "        vertical-align: middle;\n",
       "    }\n",
       "\n",
       "    .dataframe tbody tr th {\n",
       "        vertical-align: top;\n",
       "    }\n",
       "\n",
       "    .dataframe thead th {\n",
       "        text-align: right;\n",
       "    }\n",
       "</style>\n",
       "<table border=\"1\" class=\"dataframe\">\n",
       "  <thead>\n",
       "    <tr style=\"text-align: right;\">\n",
       "      <th></th>\n",
       "      <th>ID</th>\n",
       "      <th>Name</th>\n",
       "      <th>Sex</th>\n",
       "      <th>Age</th>\n",
       "      <th>Height</th>\n",
       "      <th>Weight</th>\n",
       "      <th>Team</th>\n",
       "      <th>NOC</th>\n",
       "      <th>Games</th>\n",
       "      <th>Year</th>\n",
       "      <th>Season</th>\n",
       "      <th>City</th>\n",
       "      <th>Sport</th>\n",
       "      <th>Event</th>\n",
       "      <th>Medal</th>\n",
       "    </tr>\n",
       "  </thead>\n",
       "  <tbody>\n",
       "    <tr>\n",
       "      <th>0</th>\n",
       "      <td>1</td>\n",
       "      <td>A Dijiang</td>\n",
       "      <td>M</td>\n",
       "      <td>24.0</td>\n",
       "      <td>180.0</td>\n",
       "      <td>80.0</td>\n",
       "      <td>China</td>\n",
       "      <td>CHN</td>\n",
       "      <td>1992 Summer</td>\n",
       "      <td>1992</td>\n",
       "      <td>Summer</td>\n",
       "      <td>Barcelona</td>\n",
       "      <td>Basketball</td>\n",
       "      <td>Basketball Men's Basketball</td>\n",
       "      <td>NaN</td>\n",
       "    </tr>\n",
       "    <tr>\n",
       "      <th>1</th>\n",
       "      <td>2</td>\n",
       "      <td>A Lamusi</td>\n",
       "      <td>M</td>\n",
       "      <td>23.0</td>\n",
       "      <td>170.0</td>\n",
       "      <td>60.0</td>\n",
       "      <td>China</td>\n",
       "      <td>CHN</td>\n",
       "      <td>2012 Summer</td>\n",
       "      <td>2012</td>\n",
       "      <td>Summer</td>\n",
       "      <td>London</td>\n",
       "      <td>Judo</td>\n",
       "      <td>Judo Men's Extra-Lightweight</td>\n",
       "      <td>NaN</td>\n",
       "    </tr>\n",
       "    <tr>\n",
       "      <th>2</th>\n",
       "      <td>3</td>\n",
       "      <td>Gunnar Nielsen Aaby</td>\n",
       "      <td>M</td>\n",
       "      <td>24.0</td>\n",
       "      <td>NaN</td>\n",
       "      <td>NaN</td>\n",
       "      <td>Denmark</td>\n",
       "      <td>DEN</td>\n",
       "      <td>1920 Summer</td>\n",
       "      <td>1920</td>\n",
       "      <td>Summer</td>\n",
       "      <td>Antwerpen</td>\n",
       "      <td>Football</td>\n",
       "      <td>Football Men's Football</td>\n",
       "      <td>NaN</td>\n",
       "    </tr>\n",
       "    <tr>\n",
       "      <th>3</th>\n",
       "      <td>4</td>\n",
       "      <td>Edgar Lindenau Aabye</td>\n",
       "      <td>M</td>\n",
       "      <td>34.0</td>\n",
       "      <td>NaN</td>\n",
       "      <td>NaN</td>\n",
       "      <td>Denmark/Sweden</td>\n",
       "      <td>DEN</td>\n",
       "      <td>1900 Summer</td>\n",
       "      <td>1900</td>\n",
       "      <td>Summer</td>\n",
       "      <td>Paris</td>\n",
       "      <td>Tug-Of-War</td>\n",
       "      <td>Tug-Of-War Men's Tug-Of-War</td>\n",
       "      <td>Gold</td>\n",
       "    </tr>\n",
       "    <tr>\n",
       "      <th>4</th>\n",
       "      <td>5</td>\n",
       "      <td>Christine Jacoba Aaftink</td>\n",
       "      <td>F</td>\n",
       "      <td>21.0</td>\n",
       "      <td>185.0</td>\n",
       "      <td>82.0</td>\n",
       "      <td>Netherlands</td>\n",
       "      <td>NED</td>\n",
       "      <td>1988 Winter</td>\n",
       "      <td>1988</td>\n",
       "      <td>Winter</td>\n",
       "      <td>Calgary</td>\n",
       "      <td>Speed Skating</td>\n",
       "      <td>Speed Skating Women's 500 metres</td>\n",
       "      <td>NaN</td>\n",
       "    </tr>\n",
       "  </tbody>\n",
       "</table>\n",
       "</div>"
      ],
      "text/plain": [
       "   ID                      Name Sex   Age  Height  Weight            Team  \\\n",
       "0   1                 A Dijiang   M  24.0   180.0    80.0           China   \n",
       "1   2                  A Lamusi   M  23.0   170.0    60.0           China   \n",
       "2   3       Gunnar Nielsen Aaby   M  24.0     NaN     NaN         Denmark   \n",
       "3   4      Edgar Lindenau Aabye   M  34.0     NaN     NaN  Denmark/Sweden   \n",
       "4   5  Christine Jacoba Aaftink   F  21.0   185.0    82.0     Netherlands   \n",
       "\n",
       "   NOC        Games  Year  Season       City          Sport  \\\n",
       "0  CHN  1992 Summer  1992  Summer  Barcelona     Basketball   \n",
       "1  CHN  2012 Summer  2012  Summer     London           Judo   \n",
       "2  DEN  1920 Summer  1920  Summer  Antwerpen       Football   \n",
       "3  DEN  1900 Summer  1900  Summer      Paris     Tug-Of-War   \n",
       "4  NED  1988 Winter  1988  Winter    Calgary  Speed Skating   \n",
       "\n",
       "                              Event Medal  \n",
       "0       Basketball Men's Basketball   NaN  \n",
       "1      Judo Men's Extra-Lightweight   NaN  \n",
       "2           Football Men's Football   NaN  \n",
       "3       Tug-Of-War Men's Tug-Of-War  Gold  \n",
       "4  Speed Skating Women's 500 metres   NaN  "
      ]
     },
     "execution_count": 25,
     "metadata": {},
     "output_type": "execute_result"
    }
   ],
   "source": [
    "data = pd.read_csv(PATH)\n",
    "data.head()"
   ]
  },
  {
   "cell_type": "markdown",
   "id": "8d6d23ed",
   "metadata": {},
   "source": [
    "__1. How old were the oldest male and female participants of the 2012 Olympics?__"
   ]
  },
  {
   "cell_type": "code",
   "execution_count": 365,
   "id": "35d9f336",
   "metadata": {},
   "outputs": [
    {
     "name": "stdout",
     "output_type": "stream",
     "text": [
      "Oldest male's age is ->  71.0\n",
      "Oldest female's age is ->  57.0\n"
     ]
    }
   ],
   "source": [
    "data_2012 = data[data['Year']== 2012]\n",
    "oldest_m = data_2012[data_2012['Sex']=='M']['Age'].max()\n",
    "oldest_f = data_2012[data_2012['Sex']=='F']['Age'].max()\n",
    "\n",
    "print(\"Oldest male's age is -> \",oldest_m)\n",
    "print(\"Oldest female's age is -> \",oldest_f)"
   ]
  },
  {
   "cell_type": "markdown",
   "id": "417212d0",
   "metadata": {},
   "source": [
    "__2. What are the mean and standard deviation of height for male basketball players who participated in the 1992 Olympics? Round the answer to the first decimal.__"
   ]
  },
  {
   "cell_type": "code",
   "execution_count": 367,
   "id": "f9e9571f",
   "metadata": {},
   "outputs": [
    {
     "name": "stdout",
     "output_type": "stream",
     "text": [
      "Mean is ->  199.5\n",
      "Standard deviation is ->  9.5\n"
     ]
    }
   ],
   "source": [
    "basketboll_1992 = data[(data['Year']==1992) & (data['Sport']=='Basketball') & (data['Sex']=='M')]\n",
    "\n",
    "height_mean = basketboll_1992['Height'].mean()\n",
    "height_std = basketboll_1992['Height'].std()\n",
    "\n",
    "print('Mean is -> ',round(height_mean,1))\n",
    "print('Standard deviation is -> ',round(height_std,1))\n"
   ]
  },
  {
   "cell_type": "markdown",
   "id": "4edaf000",
   "metadata": {},
   "source": [
    "__3. How many times did Christine Jacoba Aaftink participate in the Olympics held in different years?__"
   ]
  },
  {
   "cell_type": "code",
   "execution_count": 31,
   "id": "164958e9",
   "metadata": {},
   "outputs": [
    {
     "data": {
      "text/plain": [
       "3"
      ]
     },
     "execution_count": 31,
     "metadata": {},
     "output_type": "execute_result"
    }
   ],
   "source": [
    "task3 = data[data['Name']=='Christine Jacoba Aaftink']\n",
    "\n",
    "count_of_part = task3['Year'].nunique()\n",
    "\n",
    "count_of_part"
   ]
  },
  {
   "cell_type": "markdown",
   "id": "cb74a156",
   "metadata": {},
   "source": [
    "__4. Is it true that China won fewer medals than Russia at the 2012 Olympics? Do not consider NaN values in Medal column.__"
   ]
  },
  {
   "cell_type": "code",
   "execution_count": 373,
   "id": "d49056d2",
   "metadata": {},
   "outputs": [
    {
     "name": "stdout",
     "output_type": "stream",
     "text": [
      "Its false Russia has -> 138  medals\n"
     ]
    }
   ],
   "source": [
    "China = data[(data['Year']==2012) & (data['Team']=='China') & (pd.notna(data['Medal']))]\n",
    "Russia = data[(data['Year']==2012) & (data['Team']=='Russia') & (pd.notna(data['Medal']))]\n",
    "\n",
    "\n",
    "china_medals = len(China)\n",
    "russia_medals = len(Russia)\n",
    "\n",
    "if china_medals > russia_medals:\n",
    "    print('True','China medals -> ',china_medals)\n",
    "else:\n",
    "    print('Its false', 'Russia has ->',russia_medals,' medals')"
   ]
  },
  {
   "cell_type": "markdown",
   "id": "4d3dc929",
   "metadata": {},
   "source": [
    "__5. What is the absolute difference between the number of unique sports at the 1984 Olympics and 2016 Olympics?__"
   ]
  },
  {
   "cell_type": "code",
   "execution_count": 301,
   "id": "5f82a3c3",
   "metadata": {},
   "outputs": [
    {
     "name": "stdout",
     "output_type": "stream",
     "text": [
      "1\n"
     ]
    }
   ],
   "source": [
    "task5 = data[data['Year'] == 2016]['Sport'].unique()\n",
    "task6 = data[data['Year'] == 1984]['Sport'].unique()\n",
    "\n",
    "n_2016 = len(task5) \n",
    "n_1984 = len(task6)\n",
    "\n",
    "print(abs(n_2016 - n_1984))"
   ]
  },
  {
   "cell_type": "markdown",
   "id": "a203e4e1",
   "metadata": {},
   "source": [
    "__6. Calculate the basic statistics (mean, median, min, max, standard deviation) for the Age, Height, and Weight columns.\n",
    "Identify any outliers in the Weight column.__"
   ]
  },
  {
   "cell_type": "code",
   "execution_count": 317,
   "id": "63c2401f",
   "metadata": {},
   "outputs": [
    {
     "data": {
      "text/html": [
       "<div>\n",
       "<style scoped>\n",
       "    .dataframe tbody tr th:only-of-type {\n",
       "        vertical-align: middle;\n",
       "    }\n",
       "\n",
       "    .dataframe tbody tr th {\n",
       "        vertical-align: top;\n",
       "    }\n",
       "\n",
       "    .dataframe thead th {\n",
       "        text-align: right;\n",
       "    }\n",
       "</style>\n",
       "<table border=\"1\" class=\"dataframe\">\n",
       "  <thead>\n",
       "    <tr style=\"text-align: right;\">\n",
       "      <th></th>\n",
       "      <th>Age</th>\n",
       "      <th>Height</th>\n",
       "      <th>Weight</th>\n",
       "    </tr>\n",
       "  </thead>\n",
       "  <tbody>\n",
       "    <tr>\n",
       "      <th>count</th>\n",
       "      <td>261642.000000</td>\n",
       "      <td>210945.000000</td>\n",
       "      <td>208241.000000</td>\n",
       "    </tr>\n",
       "    <tr>\n",
       "      <th>mean</th>\n",
       "      <td>25.556898</td>\n",
       "      <td>175.338970</td>\n",
       "      <td>70.702393</td>\n",
       "    </tr>\n",
       "    <tr>\n",
       "      <th>std</th>\n",
       "      <td>6.393561</td>\n",
       "      <td>10.518462</td>\n",
       "      <td>14.348020</td>\n",
       "    </tr>\n",
       "    <tr>\n",
       "      <th>min</th>\n",
       "      <td>10.000000</td>\n",
       "      <td>127.000000</td>\n",
       "      <td>25.000000</td>\n",
       "    </tr>\n",
       "    <tr>\n",
       "      <th>25%</th>\n",
       "      <td>21.000000</td>\n",
       "      <td>168.000000</td>\n",
       "      <td>60.000000</td>\n",
       "    </tr>\n",
       "    <tr>\n",
       "      <th>50%</th>\n",
       "      <td>24.000000</td>\n",
       "      <td>175.000000</td>\n",
       "      <td>70.000000</td>\n",
       "    </tr>\n",
       "    <tr>\n",
       "      <th>75%</th>\n",
       "      <td>28.000000</td>\n",
       "      <td>183.000000</td>\n",
       "      <td>79.000000</td>\n",
       "    </tr>\n",
       "    <tr>\n",
       "      <th>max</th>\n",
       "      <td>97.000000</td>\n",
       "      <td>226.000000</td>\n",
       "      <td>214.000000</td>\n",
       "    </tr>\n",
       "  </tbody>\n",
       "</table>\n",
       "</div>"
      ],
      "text/plain": [
       "                 Age         Height         Weight\n",
       "count  261642.000000  210945.000000  208241.000000\n",
       "mean       25.556898     175.338970      70.702393\n",
       "std         6.393561      10.518462      14.348020\n",
       "min        10.000000     127.000000      25.000000\n",
       "25%        21.000000     168.000000      60.000000\n",
       "50%        24.000000     175.000000      70.000000\n",
       "75%        28.000000     183.000000      79.000000\n",
       "max        97.000000     226.000000     214.000000"
      ]
     },
     "execution_count": 317,
     "metadata": {},
     "output_type": "execute_result"
    }
   ],
   "source": [
    "statistics = data[['Age', 'Height', 'Weight']].describe()\n",
    "statistics"
   ]
  },
  {
   "cell_type": "code",
   "execution_count": 313,
   "id": "1f3e05c1-be7c-4227-aae3-efd8c9f1ff77",
   "metadata": {},
   "outputs": [
    {
     "data": {
      "text/plain": [
       "57        130.0\n",
       "80        125.0\n",
       "384       120.0\n",
       "507       117.5\n",
       "508       117.5\n",
       "          ...  \n",
       "270644    161.0\n",
       "270740    115.0\n",
       "270741    115.0\n",
       "270742    115.0\n",
       "270801    134.0\n",
       "Name: Weight, Length: 3237, dtype: float64"
      ]
     },
     "execution_count": 313,
     "metadata": {},
     "output_type": "execute_result"
    }
   ],
   "source": [
    "Quantile1 = data['Weight'].quantile(0.25)\n",
    "Quantile2 = data['Weight'].quantile(0.75)\n",
    "IQR = Quantile2 - Quantile1\n",
    "\n",
    "outliers = data[(data['Weight'] < (Quantile1 - 1.5 * IQR)) | (data['Weight'] > (Quantile2 + 1.5 * IQR))]\n",
    "outliers_weight = outliers['Weight']\n",
    "\n",
    "outliers_weight"
   ]
  },
  {
   "cell_type": "markdown",
   "id": "806c0c9f",
   "metadata": {},
   "source": [
    "__7. Find the amount of all medals won by Kazakhstan__"
   ]
  },
  {
   "cell_type": "code",
   "execution_count": 29,
   "id": "fa3001d6",
   "metadata": {},
   "outputs": [
    {
     "name": "stdout",
     "output_type": "stream",
     "text": [
      "Kazakhstan 🇰🇿 medals count is -> 🥇🥈🥉 77 \n",
      "\n",
      "Kazakhstan 🇰🇿 medals count is -> 🥇 20\n",
      "Kazakhstan 🇰🇿 medals count is -> 🥈 25\n",
      "Kazakhstan 🇰🇿 medals count is -> 🥉 32\n"
     ]
    }
   ],
   "source": [
    "Kz = data[(data['Team']=='Kazakhstan') & (pd.notna(data['Medal']))]\n",
    "Kz_medal_amount = len(Kz)\n",
    "kz_gold_count = len(Kz[Kz['Medal'] =='Gold'])\n",
    "kz_silver_count = len(Kz[Kz['Medal'] =='Silver'])\n",
    "kz_bronze_count = len(Kz[Kz['Medal'] =='Bronze'])\n",
    "\n",
    "\n",
    "\n",
    "print('Kazakhstan 🇰🇿 medals count is -> 🥇🥈🥉',Kz_medal_amount,'\\n')\n",
    "print('Kazakhstan 🇰🇿 medals count is -> 🥇',kz_gold_count)\n",
    "print('Kazakhstan 🇰🇿 medals count is -> 🥈',kz_silver_count)\n",
    "print('Kazakhstan 🇰🇿 medals count is -> 🥉',kz_bronze_count)\n"
   ]
  },
  {
   "cell_type": "markdown",
   "id": "13e019f5",
   "metadata": {},
   "source": [
    "__8. Identify Kazakhstan's most successful Olympic Games__"
   ]
  },
  {
   "cell_type": "code",
   "execution_count": 357,
   "id": "5fcb1929",
   "metadata": {},
   "outputs": [
    {
     "data": {
      "text/html": [
       "<div>\n",
       "<style scoped>\n",
       "    .dataframe tbody tr th:only-of-type {\n",
       "        vertical-align: middle;\n",
       "    }\n",
       "\n",
       "    .dataframe tbody tr th {\n",
       "        vertical-align: top;\n",
       "    }\n",
       "\n",
       "    .dataframe thead th {\n",
       "        text-align: right;\n",
       "    }\n",
       "</style>\n",
       "<table border=\"1\" class=\"dataframe\">\n",
       "  <thead>\n",
       "    <tr style=\"text-align: right;\">\n",
       "      <th>Medal</th>\n",
       "      <th>Bronze</th>\n",
       "      <th>Gold</th>\n",
       "      <th>Silver</th>\n",
       "    </tr>\n",
       "    <tr>\n",
       "      <th>Year</th>\n",
       "      <th></th>\n",
       "      <th></th>\n",
       "      <th></th>\n",
       "    </tr>\n",
       "  </thead>\n",
       "  <tbody>\n",
       "    <tr>\n",
       "      <th>2016</th>\n",
       "      <td>10</td>\n",
       "      <td>3</td>\n",
       "      <td>5</td>\n",
       "    </tr>\n",
       "  </tbody>\n",
       "</table>\n",
       "</div>"
      ],
      "text/plain": [
       "Medal  Bronze  Gold  Silver\n",
       "Year                       \n",
       "2016       10     3       5"
      ]
     },
     "execution_count": 357,
     "metadata": {},
     "output_type": "execute_result"
    }
   ],
   "source": [
    "kz_most = data[(data['Team']=='Kazakhstan') & (pd.notna(data['Medal']))]\n",
    "medal_counts = kz_most.groupby('Year').size()\n",
    "max_year = medal_counts.idxmax()\n",
    "\n",
    "max_year\n",
    "\n",
    "res = data[(data['Year']==max_year) & (pd.notna(data['Medal']) & (data['NOC']=='KAZ'))]\n",
    "res = res.groupby('Year')['Medal'].value_counts().unstack(fill_value=0)\n",
    "res"
   ]
  },
  {
   "cell_type": "markdown",
   "id": "fc4ef85a",
   "metadata": {},
   "source": [
    "__9. How many times did Michael Fred Phelps win different medals in the Olympics held in different years?__"
   ]
  },
  {
   "cell_type": "code",
   "execution_count": 21,
   "id": "eae4ba5f",
   "metadata": {},
   "outputs": [
    {
     "data": {
      "text/html": [
       "<div>\n",
       "<style scoped>\n",
       "    .dataframe tbody tr th:only-of-type {\n",
       "        vertical-align: middle;\n",
       "    }\n",
       "\n",
       "    .dataframe tbody tr th {\n",
       "        vertical-align: top;\n",
       "    }\n",
       "\n",
       "    .dataframe thead th {\n",
       "        text-align: right;\n",
       "    }\n",
       "</style>\n",
       "<table border=\"1\" class=\"dataframe\">\n",
       "  <thead>\n",
       "    <tr style=\"text-align: right;\">\n",
       "      <th>Medal</th>\n",
       "      <th>Bronze</th>\n",
       "      <th>Gold</th>\n",
       "      <th>Silver</th>\n",
       "    </tr>\n",
       "    <tr>\n",
       "      <th>Year</th>\n",
       "      <th></th>\n",
       "      <th></th>\n",
       "      <th></th>\n",
       "    </tr>\n",
       "  </thead>\n",
       "  <tbody>\n",
       "    <tr>\n",
       "      <th>2004</th>\n",
       "      <td>2</td>\n",
       "      <td>6</td>\n",
       "      <td>0</td>\n",
       "    </tr>\n",
       "    <tr>\n",
       "      <th>2008</th>\n",
       "      <td>0</td>\n",
       "      <td>8</td>\n",
       "      <td>0</td>\n",
       "    </tr>\n",
       "    <tr>\n",
       "      <th>2012</th>\n",
       "      <td>0</td>\n",
       "      <td>4</td>\n",
       "      <td>2</td>\n",
       "    </tr>\n",
       "    <tr>\n",
       "      <th>2016</th>\n",
       "      <td>0</td>\n",
       "      <td>5</td>\n",
       "      <td>1</td>\n",
       "    </tr>\n",
       "  </tbody>\n",
       "</table>\n",
       "</div>"
      ],
      "text/plain": [
       "Medal  Bronze  Gold  Silver\n",
       "Year                       \n",
       "2004        2     6       0\n",
       "2008        0     8       0\n",
       "2012        0     4       2\n",
       "2016        0     5       1"
      ]
     },
     "execution_count": 21,
     "metadata": {},
     "output_type": "execute_result"
    }
   ],
   "source": [
    "max_medalist = data[pd.notna(data['Medal'])]\n",
    "\n",
    "sportsmen = max_medalist.groupby('Name').size().idxmax()\n",
    "\n",
    "res = max_medalist[max_medalist['Name'] == sportsmen]\n",
    "res = res.groupby('Year')['Medal'].value_counts().unstack(fill_value=0)\n",
    "res\n"
   ]
  },
  {
   "cell_type": "code",
   "execution_count": null,
   "id": "15246e10-836d-4239-b447-1769b034f111",
   "metadata": {},
   "outputs": [],
   "source": []
  }
 ],
 "metadata": {
  "kernelspec": {
   "display_name": "Python 3 (ipykernel)",
   "language": "python",
   "name": "python3"
  },
  "language_info": {
   "codemirror_mode": {
    "name": "ipython",
    "version": 3
   },
   "file_extension": ".py",
   "mimetype": "text/x-python",
   "name": "python",
   "nbconvert_exporter": "python",
   "pygments_lexer": "ipython3",
   "version": "3.12.4"
  }
 },
 "nbformat": 4,
 "nbformat_minor": 5
}
