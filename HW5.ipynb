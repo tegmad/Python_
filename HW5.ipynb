{
 "cells": [
  {
   "cell_type": "code",
   "execution_count": 6,
   "id": "66ced3bf-55e5-4c35-8cbb-e260afbe5e02",
   "metadata": {},
   "outputs": [],
   "source": [
    "import pandas as pd"
   ]
  },
  {
   "cell_type": "markdown",
   "id": "52d5906b-02c8-4457-92c0-2d75b899630d",
   "metadata": {},
   "source": [
    "## Задание 1 - Работа с файлами Data Frame\n",
    "\n",
    "- Определите, в каких столбцах есть пропущенные значения. Удалите все строки, в которых пропущено значение в столбце 'Бюджет (млн $)'.\n",
    "\n",
    "- Заполните все пропущенные значения в столбце 'Режиссер' строкой 'Неизвестен'.\n",
    "\n",
    "- Заполните все пропущенные значения в столбце 'Рейтинг' средним значением этого столбца.\n",
    "\n",
    "- Если в строке пропущены значения и в 'Бюджет (млн $)', и в 'Сборы (млн $)', удалите эту строку. В противном случае, если пропущено значение только в одном из этих столбцов, оставьте строку."
   ]
  },
  {
   "cell_type": "code",
   "execution_count": 10,
   "id": "640ba23c-ecfb-4492-8947-a26dd8213f28",
   "metadata": {},
   "outputs": [
    {
     "data": {
      "text/html": [
       "<div>\n",
       "<style scoped>\n",
       "    .dataframe tbody tr th:only-of-type {\n",
       "        vertical-align: middle;\n",
       "    }\n",
       "\n",
       "    .dataframe tbody tr th {\n",
       "        vertical-align: top;\n",
       "    }\n",
       "\n",
       "    .dataframe thead th {\n",
       "        text-align: right;\n",
       "    }\n",
       "</style>\n",
       "<table border=\"1\" class=\"dataframe\">\n",
       "  <thead>\n",
       "    <tr style=\"text-align: right;\">\n",
       "      <th></th>\n",
       "      <th>ID</th>\n",
       "      <th>Название фильма</th>\n",
       "      <th>Год выпуска</th>\n",
       "      <th>Жанр</th>\n",
       "      <th>Рейтинг</th>\n",
       "      <th>Бюджет (млн $)</th>\n",
       "      <th>Сборы (млн $)</th>\n",
       "      <th>Режиссер</th>\n",
       "      <th>Основные актеры</th>\n",
       "    </tr>\n",
       "  </thead>\n",
       "  <tbody>\n",
       "    <tr>\n",
       "      <th>0</th>\n",
       "      <td>1</td>\n",
       "      <td>Космический эпос</td>\n",
       "      <td>2022</td>\n",
       "      <td>Фантастика</td>\n",
       "      <td>7.8</td>\n",
       "      <td>120.0</td>\n",
       "      <td>500</td>\n",
       "      <td>NaN</td>\n",
       "      <td>Анна Петрова, Петр Сидоров</td>\n",
       "    </tr>\n",
       "    <tr>\n",
       "      <th>1</th>\n",
       "      <td>2</td>\n",
       "      <td>Приключения времени</td>\n",
       "      <td>2020</td>\n",
       "      <td>Приключения</td>\n",
       "      <td>8.2</td>\n",
       "      <td>90.0</td>\n",
       "      <td>450</td>\n",
       "      <td>Мария Смирнова</td>\n",
       "      <td>Сергей Васильев, Ольга Иванова</td>\n",
       "    </tr>\n",
       "    <tr>\n",
       "      <th>2</th>\n",
       "      <td>3</td>\n",
       "      <td>Сердце океана</td>\n",
       "      <td>2021</td>\n",
       "      <td>Драма</td>\n",
       "      <td>8.5</td>\n",
       "      <td>60.0</td>\n",
       "      <td>300</td>\n",
       "      <td>Алексей Попов</td>\n",
       "      <td>Дмитрий Кузнецов, Ирина Лебедева</td>\n",
       "    </tr>\n",
       "    <tr>\n",
       "      <th>3</th>\n",
       "      <td>4</td>\n",
       "      <td>Секретные агенты</td>\n",
       "      <td>2019</td>\n",
       "      <td>Боевик</td>\n",
       "      <td>7.6</td>\n",
       "      <td>85.0</td>\n",
       "      <td>550</td>\n",
       "      <td>Кирилл Соколов</td>\n",
       "      <td>Елена Романова, Артем Михайлов</td>\n",
       "    </tr>\n",
       "    <tr>\n",
       "      <th>4</th>\n",
       "      <td>5</td>\n",
       "      <td>Загадка джунглей</td>\n",
       "      <td>2023</td>\n",
       "      <td>Приключения</td>\n",
       "      <td>7.0</td>\n",
       "      <td>NaN</td>\n",
       "      <td>350</td>\n",
       "      <td>Петр Ильин</td>\n",
       "      <td>Антон Зайцев, Марина Краснова</td>\n",
       "    </tr>\n",
       "  </tbody>\n",
       "</table>\n",
       "</div>"
      ],
      "text/plain": [
       "   ID              Название фильма  Год выпуска         Жанр  Рейтинг  \\\n",
       "0           1     Космический эпос         2022   Фантастика      7.8   \n",
       "1           2  Приключения времени         2020  Приключения      8.2   \n",
       "2           3        Сердце океана         2021        Драма      8.5   \n",
       "3           4     Секретные агенты         2019       Боевик      7.6   \n",
       "4           5     Загадка джунглей         2023  Приключения      7.0   \n",
       "\n",
       "   Бюджет (млн $)  Сборы (млн $)        Режиссер  \\\n",
       "0           120.0            500             NaN   \n",
       "1            90.0            450  Мария Смирнова   \n",
       "2            60.0            300   Алексей Попов   \n",
       "3            85.0            550  Кирилл Соколов   \n",
       "4             NaN            350      Петр Ильин   \n",
       "\n",
       "                    Основные актеры  \n",
       "0        Анна Петрова, Петр Сидоров  \n",
       "1    Сергей Васильев, Ольга Иванова  \n",
       "2  Дмитрий Кузнецов, Ирина Лебедева  \n",
       "3    Елена Романова, Артем Михайлов  \n",
       "4     Антон Зайцев, Марина Краснова  "
      ]
     },
     "execution_count": 10,
     "metadata": {},
     "output_type": "execute_result"
    }
   ],
   "source": [
    "path = 'ДЗ_Pandas.csv'\n",
    "\n",
    "df = pd.read_csv(path)\n",
    "df.head()"
   ]
  },
  {
   "cell_type": "code",
   "execution_count": 13,
   "id": "da2add09-2c72-4ac8-930e-774bf0db74fc",
   "metadata": {},
   "outputs": [
    {
     "data": {
      "text/plain": [
       "ID                 0\n",
       "Название фильма    0\n",
       "Год выпуска        0\n",
       "Жанр               0\n",
       "Рейтинг            2\n",
       "Бюджет (млн $)     2\n",
       "Сборы (млн $)      0\n",
       "Режиссер           2\n",
       "Основные актеры    0\n",
       "dtype: int64"
      ]
     },
     "execution_count": 13,
     "metadata": {},
     "output_type": "execute_result"
    }
   ],
   "source": [
    "# Рейтинг и Режисер и Бюджет в этих столбцах есть по 2 пропущенных значений\n",
    "\n",
    "df.isnull().sum()"
   ]
  },
  {
   "cell_type": "code",
   "execution_count": 25,
   "id": "535268df-e7b5-4c1e-97b0-f16e02d06584",
   "metadata": {},
   "outputs": [
    {
     "data": {
      "text/plain": [
       "ID                 0\n",
       "Название фильма    0\n",
       "Год выпуска        0\n",
       "Жанр               0\n",
       "Рейтинг            2\n",
       "Бюджет (млн $)     0\n",
       "Сборы (млн $)      0\n",
       "Режиссер           2\n",
       "Основные актеры    0\n",
       "dtype: int64"
      ]
     },
     "execution_count": 25,
     "metadata": {},
     "output_type": "execute_result"
    }
   ],
   "source": [
    "df.dropna(subset=['Бюджет (млн $)'], inplace=True)\n",
    "df.isnull().sum()"
   ]
  },
  {
   "cell_type": "code",
   "execution_count": 37,
   "id": "692767e1-cd5e-4b4c-ab5e-fed679918678",
   "metadata": {},
   "outputs": [
    {
     "data": {
      "text/plain": [
       "ID                 0\n",
       "Название фильма    0\n",
       "Год выпуска        0\n",
       "Жанр               0\n",
       "Рейтинг            2\n",
       "Бюджет (млн $)     0\n",
       "Сборы (млн $)      0\n",
       "Режиссер           0\n",
       "Основные актеры    0\n",
       "dtype: int64"
      ]
     },
     "execution_count": 37,
     "metadata": {},
     "output_type": "execute_result"
    }
   ],
   "source": [
    "df.fillna({'Режиссер':'Неизвестен'},inplace=True)\n",
    "df.isnull().sum()"
   ]
  },
  {
   "cell_type": "code",
   "execution_count": 41,
   "id": "717367e5-5086-4909-a011-0cf64cfef9fb",
   "metadata": {},
   "outputs": [
    {
     "data": {
      "text/plain": [
       "ID                 0\n",
       "Название фильма    0\n",
       "Год выпуска        0\n",
       "Жанр               0\n",
       "Рейтинг            0\n",
       "Бюджет (млн $)     0\n",
       "Сборы (млн $)      0\n",
       "Режиссер           0\n",
       "Основные актеры    0\n",
       "dtype: int64"
      ]
     },
     "execution_count": 41,
     "metadata": {},
     "output_type": "execute_result"
    }
   ],
   "source": [
    "df.fillna({'Рейтинг':df['Рейтинг'].mean()},inplace=True)\n",
    "df.isnull().sum()"
   ]
  },
  {
   "cell_type": "code",
   "execution_count": 46,
   "id": "6c314ca8-168c-445b-9441-6b59889e181b",
   "metadata": {},
   "outputs": [
    {
     "data": {
      "text/plain": [
       "ID                 0\n",
       "Название фильма    0\n",
       "Год выпуска        0\n",
       "Жанр               0\n",
       "Рейтинг            0\n",
       "Бюджет (млн $)     0\n",
       "Сборы (млн $)      0\n",
       "Режиссер           0\n",
       "Основные актеры    0\n",
       "dtype: int64"
      ]
     },
     "execution_count": 46,
     "metadata": {},
     "output_type": "execute_result"
    }
   ],
   "source": [
    "df.dropna(subset=['Бюджет (млн $)','Сборы (млн $)'],how='all')\n",
    "df.isnull().sum()"
   ]
  },
  {
   "cell_type": "markdown",
   "id": "6ff2b1c1-f27e-4803-8731-b95d85d01f6e",
   "metadata": {},
   "source": [
    "## Задание 2 - Grouby\n",
    "\n",
    "Группировка по Жанру:\n",
    "\n",
    "- Сгруппируйте фильмы по жанру\n",
    "\n",
    "- Рассчитайте средний рейтинг и средний бюджет в каждом жанре.\n",
    "\n",
    "Группировка по Году Выпуска:\n",
    "\n",
    "- Сгруппируйте фильмы по году выпуска\n",
    "\n",
    "- Определите общее количество фильмов и суммарные сборы в прокате по каждому году.\n",
    "\n",
    "Комбинированная Группировка:\n",
    "\n",
    "- Сгруппируйте фильмы по жанру и году выпуска\n",
    "\n",
    "- Рассчитайте средний рейтинг для каждой комбинации жанра и года выпуска\n",
    "\n"
   ]
  },
  {
   "cell_type": "code",
   "execution_count": 68,
   "id": "d41b71e4-938d-4ea1-8c9c-8e66bf9f0344",
   "metadata": {},
   "outputs": [
    {
     "data": {
      "text/html": [
       "<div>\n",
       "<style scoped>\n",
       "    .dataframe tbody tr th:only-of-type {\n",
       "        vertical-align: middle;\n",
       "    }\n",
       "\n",
       "    .dataframe tbody tr th {\n",
       "        vertical-align: top;\n",
       "    }\n",
       "\n",
       "    .dataframe thead th {\n",
       "        text-align: right;\n",
       "    }\n",
       "</style>\n",
       "<table border=\"1\" class=\"dataframe\">\n",
       "  <thead>\n",
       "    <tr style=\"text-align: right;\">\n",
       "      <th></th>\n",
       "      <th>Рейтинг</th>\n",
       "      <th>Бюджет (млн $)</th>\n",
       "    </tr>\n",
       "    <tr>\n",
       "      <th>Жанр</th>\n",
       "      <th></th>\n",
       "      <th></th>\n",
       "    </tr>\n",
       "  </thead>\n",
       "  <tbody>\n",
       "    <tr>\n",
       "      <th>Боевик</th>\n",
       "      <td>7.75</td>\n",
       "      <td>90.0</td>\n",
       "    </tr>\n",
       "    <tr>\n",
       "      <th>Драма</th>\n",
       "      <td>8.50</td>\n",
       "      <td>60.0</td>\n",
       "    </tr>\n",
       "    <tr>\n",
       "      <th>Мистика</th>\n",
       "      <td>7.10</td>\n",
       "      <td>65.0</td>\n",
       "    </tr>\n",
       "    <tr>\n",
       "      <th>Научная фантастика</th>\n",
       "      <td>7.85</td>\n",
       "      <td>130.0</td>\n",
       "    </tr>\n",
       "    <tr>\n",
       "      <th>Приключения</th>\n",
       "      <td>8.20</td>\n",
       "      <td>90.0</td>\n",
       "    </tr>\n",
       "    <tr>\n",
       "      <th>Триллер</th>\n",
       "      <td>7.85</td>\n",
       "      <td>40.0</td>\n",
       "    </tr>\n",
       "    <tr>\n",
       "      <th>Фантастика</th>\n",
       "      <td>7.80</td>\n",
       "      <td>120.0</td>\n",
       "    </tr>\n",
       "  </tbody>\n",
       "</table>\n",
       "</div>"
      ],
      "text/plain": [
       "                    Рейтинг  Бюджет (млн $)\n",
       "Жанр                                       \n",
       "Боевик                 7.75            90.0\n",
       "Драма                  8.50            60.0\n",
       "Мистика                7.10            65.0\n",
       "Научная фантастика     7.85           130.0\n",
       "Приключения            8.20            90.0\n",
       "Триллер                7.85            40.0\n",
       "Фантастика             7.80           120.0"
      ]
     },
     "execution_count": 68,
     "metadata": {},
     "output_type": "execute_result"
    }
   ],
   "source": [
    "data = df.groupby('Жанр')[['Рейтинг','Бюджет (млн $)']].mean()\n",
    "data"
   ]
  },
  {
   "cell_type": "code",
   "execution_count": 96,
   "id": "9ebe0da8-cc59-4e31-a76a-501dc5b276b8",
   "metadata": {},
   "outputs": [
    {
     "data": {
      "text/html": [
       "<div>\n",
       "<style scoped>\n",
       "    .dataframe tbody tr th:only-of-type {\n",
       "        vertical-align: middle;\n",
       "    }\n",
       "\n",
       "    .dataframe tbody tr th {\n",
       "        vertical-align: top;\n",
       "    }\n",
       "\n",
       "    .dataframe thead th {\n",
       "        text-align: right;\n",
       "    }\n",
       "</style>\n",
       "<table border=\"1\" class=\"dataframe\">\n",
       "  <thead>\n",
       "    <tr style=\"text-align: right;\">\n",
       "      <th></th>\n",
       "      <th>Число Выпушенных Фильмов</th>\n",
       "      <th>Сумма Сборов(млн $)</th>\n",
       "    </tr>\n",
       "    <tr>\n",
       "      <th>Год выпуска</th>\n",
       "      <th></th>\n",
       "      <th></th>\n",
       "    </tr>\n",
       "  </thead>\n",
       "  <tbody>\n",
       "    <tr>\n",
       "      <th>2018</th>\n",
       "      <td>1</td>\n",
       "      <td>200</td>\n",
       "    </tr>\n",
       "    <tr>\n",
       "      <th>2019</th>\n",
       "      <td>1</td>\n",
       "      <td>550</td>\n",
       "    </tr>\n",
       "    <tr>\n",
       "      <th>2020</th>\n",
       "      <td>1</td>\n",
       "      <td>450</td>\n",
       "    </tr>\n",
       "    <tr>\n",
       "      <th>2021</th>\n",
       "      <td>2</td>\n",
       "      <td>780</td>\n",
       "    </tr>\n",
       "    <tr>\n",
       "      <th>2022</th>\n",
       "      <td>2</td>\n",
       "      <td>810</td>\n",
       "    </tr>\n",
       "    <tr>\n",
       "      <th>2023</th>\n",
       "      <td>1</td>\n",
       "      <td>650</td>\n",
       "    </tr>\n",
       "  </tbody>\n",
       "</table>\n",
       "</div>"
      ],
      "text/plain": [
       "             Число Выпушенных Фильмов  Сумма Сборов(млн $)\n",
       "Год выпуска                                               \n",
       "2018                                1                  200\n",
       "2019                                1                  550\n",
       "2020                                1                  450\n",
       "2021                                2                  780\n",
       "2022                                2                  810\n",
       "2023                                1                  650"
      ]
     },
     "execution_count": 96,
     "metadata": {},
     "output_type": "execute_result"
    }
   ],
   "source": [
    "data2 = df.groupby('Год выпуска')['Сборы (млн $)'].agg(['count','sum'])\n",
    "data2 = data2.rename(columns={'count':'Число Выпушенных Фильмов',\n",
    "                              'sum': 'Сумма Сборов(млн $)'})\n",
    "data2"
   ]
  },
  {
   "cell_type": "code",
   "execution_count": 104,
   "id": "5667372d-a50a-4c1a-b81b-bae3387d767b",
   "metadata": {},
   "outputs": [
    {
     "data": {
      "text/html": [
       "<div>\n",
       "<style scoped>\n",
       "    .dataframe tbody tr th:only-of-type {\n",
       "        vertical-align: middle;\n",
       "    }\n",
       "\n",
       "    .dataframe tbody tr th {\n",
       "        vertical-align: top;\n",
       "    }\n",
       "\n",
       "    .dataframe thead th {\n",
       "        text-align: right;\n",
       "    }\n",
       "</style>\n",
       "<table border=\"1\" class=\"dataframe\">\n",
       "  <thead>\n",
       "    <tr style=\"text-align: right;\">\n",
       "      <th></th>\n",
       "      <th>Жанр</th>\n",
       "      <th>Год выпуска</th>\n",
       "      <th>Средний Рейтинг</th>\n",
       "    </tr>\n",
       "  </thead>\n",
       "  <tbody>\n",
       "    <tr>\n",
       "      <th>6</th>\n",
       "      <td>Триллер</td>\n",
       "      <td>2018</td>\n",
       "      <td>7.85</td>\n",
       "    </tr>\n",
       "    <tr>\n",
       "      <th>0</th>\n",
       "      <td>Боевик</td>\n",
       "      <td>2019</td>\n",
       "      <td>7.60</td>\n",
       "    </tr>\n",
       "    <tr>\n",
       "      <th>5</th>\n",
       "      <td>Приключения</td>\n",
       "      <td>2020</td>\n",
       "      <td>8.20</td>\n",
       "    </tr>\n",
       "    <tr>\n",
       "      <th>1</th>\n",
       "      <td>Боевик</td>\n",
       "      <td>2021</td>\n",
       "      <td>7.90</td>\n",
       "    </tr>\n",
       "    <tr>\n",
       "      <th>2</th>\n",
       "      <td>Драма</td>\n",
       "      <td>2021</td>\n",
       "      <td>8.50</td>\n",
       "    </tr>\n",
       "    <tr>\n",
       "      <th>3</th>\n",
       "      <td>Мистика</td>\n",
       "      <td>2022</td>\n",
       "      <td>7.10</td>\n",
       "    </tr>\n",
       "    <tr>\n",
       "      <th>7</th>\n",
       "      <td>Фантастика</td>\n",
       "      <td>2022</td>\n",
       "      <td>7.80</td>\n",
       "    </tr>\n",
       "    <tr>\n",
       "      <th>4</th>\n",
       "      <td>Научная фантастика</td>\n",
       "      <td>2023</td>\n",
       "      <td>7.85</td>\n",
       "    </tr>\n",
       "  </tbody>\n",
       "</table>\n",
       "</div>"
      ],
      "text/plain": [
       "                 Жанр  Год выпуска  Средний Рейтинг\n",
       "6             Триллер         2018             7.85\n",
       "0              Боевик         2019             7.60\n",
       "5         Приключения         2020             8.20\n",
       "1              Боевик         2021             7.90\n",
       "2               Драма         2021             8.50\n",
       "3             Мистика         2022             7.10\n",
       "7          Фантастика         2022             7.80\n",
       "4  Научная фантастика         2023             7.85"
      ]
     },
     "execution_count": 104,
     "metadata": {},
     "output_type": "execute_result"
    }
   ],
   "source": [
    "df2 = df.groupby(['Жанр','Год выпуска'])['Рейтинг'].mean().reset_index(name='Средний Рейтинг')\n",
    "df2.sort_values('Год выпуска')"
   ]
  },
  {
   "cell_type": "markdown",
   "id": "0a61856f-2f4f-4b6e-bea1-d0ecb86fdbfe",
   "metadata": {},
   "source": [
    "## Задание 3 - reset index\n",
    "\n",
    "Группировка и Сортировка:\n",
    "\n",
    "- Сгруппируйте фильмы по жанру и рассчитайте средний рейтинг для каждого жанра\n",
    "\n",
    "- Сбросьте индекс и отсортируйте результаты по среднему рейтингу в убывающем порядке\n",
    "\n",
    "Анализ частоты:\n",
    "\n",
    "- Используйте value_counts для определения, сколько фильмов было выпущено в каждом году\n",
    "\n",
    "- Отсортируйте результаты по годам в порядке возрастания\n",
    "\n",
    "Комбинированный Анализ:\n",
    "\n",
    "- Сгруппируйте фильмы по режиссеру и жанру, затем рассчитайте общие сборы фильмов для каждой комбинации\n",
    "\n",
    "- Сбросьте индекс и отсортируйте результаты по сумме сборов в убывающем порядке\n",
    "\n"
   ]
  },
  {
   "cell_type": "code",
   "execution_count": 111,
   "id": "9488dfa1-f02d-4b0b-ba6f-c102db87f78c",
   "metadata": {},
   "outputs": [
    {
     "data": {
      "text/html": [
       "<div>\n",
       "<style scoped>\n",
       "    .dataframe tbody tr th:only-of-type {\n",
       "        vertical-align: middle;\n",
       "    }\n",
       "\n",
       "    .dataframe tbody tr th {\n",
       "        vertical-align: top;\n",
       "    }\n",
       "\n",
       "    .dataframe thead th {\n",
       "        text-align: right;\n",
       "    }\n",
       "</style>\n",
       "<table border=\"1\" class=\"dataframe\">\n",
       "  <thead>\n",
       "    <tr style=\"text-align: right;\">\n",
       "      <th></th>\n",
       "      <th>Жанр</th>\n",
       "      <th>Рейтинг</th>\n",
       "    </tr>\n",
       "  </thead>\n",
       "  <tbody>\n",
       "    <tr>\n",
       "      <th>1</th>\n",
       "      <td>Драма</td>\n",
       "      <td>8.50</td>\n",
       "    </tr>\n",
       "    <tr>\n",
       "      <th>4</th>\n",
       "      <td>Приключения</td>\n",
       "      <td>8.20</td>\n",
       "    </tr>\n",
       "    <tr>\n",
       "      <th>3</th>\n",
       "      <td>Научная фантастика</td>\n",
       "      <td>7.85</td>\n",
       "    </tr>\n",
       "    <tr>\n",
       "      <th>5</th>\n",
       "      <td>Триллер</td>\n",
       "      <td>7.85</td>\n",
       "    </tr>\n",
       "    <tr>\n",
       "      <th>6</th>\n",
       "      <td>Фантастика</td>\n",
       "      <td>7.80</td>\n",
       "    </tr>\n",
       "    <tr>\n",
       "      <th>0</th>\n",
       "      <td>Боевик</td>\n",
       "      <td>7.75</td>\n",
       "    </tr>\n",
       "    <tr>\n",
       "      <th>2</th>\n",
       "      <td>Мистика</td>\n",
       "      <td>7.10</td>\n",
       "    </tr>\n",
       "  </tbody>\n",
       "</table>\n",
       "</div>"
      ],
      "text/plain": [
       "                 Жанр  Рейтинг\n",
       "1               Драма     8.50\n",
       "4         Приключения     8.20\n",
       "3  Научная фантастика     7.85\n",
       "5             Триллер     7.85\n",
       "6          Фантастика     7.80\n",
       "0              Боевик     7.75\n",
       "2             Мистика     7.10"
      ]
     },
     "execution_count": 111,
     "metadata": {},
     "output_type": "execute_result"
    }
   ],
   "source": [
    "df3 = df.groupby('Жанр')['Рейтинг'].mean().reset_index().sort_values('Рейтинг', ascending=False)\n",
    "df3"
   ]
  },
  {
   "cell_type": "code",
   "execution_count": 128,
   "id": "8f4f2866-4cc5-48da-b174-87971b33077d",
   "metadata": {},
   "outputs": [
    {
     "data": {
      "text/plain": [
       "Год выпуска\n",
       "2018    1\n",
       "2019    1\n",
       "2020    1\n",
       "2021    2\n",
       "2022    2\n",
       "2023    1\n",
       "Name: count, dtype: int64"
      ]
     },
     "execution_count": 128,
     "metadata": {},
     "output_type": "execute_result"
    }
   ],
   "source": [
    "df['Год выпуска'].value_counts().sort_index()"
   ]
  },
  {
   "cell_type": "code",
   "execution_count": 138,
   "id": "f8126500-22d6-4809-b309-6f8d22d40f40",
   "metadata": {},
   "outputs": [
    {
     "data": {
      "text/plain": [
       "Режиссер        Жанр              \n",
       "Алексей Попов   Драма                 300\n",
       "Дмитрий Иванов  Мистика               310\n",
       "Кирилл Соколов  Боевик                550\n",
       "Мария Смирнова  Приключения           450\n",
       "Неизвестен      Научная фантастика    650\n",
       "                Фантастика            500\n",
       "Ольга Петрова   Триллер               200\n",
       "Роман Васильев  Боевик                480\n",
       "Name: Сборы (млн $), dtype: int64"
      ]
     },
     "execution_count": 138,
     "metadata": {},
     "output_type": "execute_result"
    }
   ],
   "source": [
    "df.groupby(['Режиссер', 'Жанр'])['Сборы (млн $)'].sum().reset_index()"
   ]
  },
  {
   "cell_type": "code",
   "execution_count": null,
   "id": "01c83583-5268-4bd1-bab0-a012bdf58050",
   "metadata": {},
   "outputs": [],
   "source": []
  }
 ],
 "metadata": {
  "kernelspec": {
   "display_name": "Python 3 (ipykernel)",
   "language": "python",
   "name": "python3"
  },
  "language_info": {
   "codemirror_mode": {
    "name": "ipython",
    "version": 3
   },
   "file_extension": ".py",
   "mimetype": "text/x-python",
   "name": "python",
   "nbconvert_exporter": "python",
   "pygments_lexer": "ipython3",
   "version": "3.12.4"
  }
 },
 "nbformat": 4,
 "nbformat_minor": 5
}
