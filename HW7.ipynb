{
 "cells": [
  {
   "cell_type": "raw",
   "id": "0308a9e9-433c-47d7-9696-aca6f08877bc",
   "metadata": {},
   "source": [
    "Задача 1: Модуль для обработки строк\n",
    "\n",
    "Создайте модуль string_operations.py, который включает следующие функции:\n",
    "\n",
    "1. count_vowels(str) - возвращает количество гласных букв в строке.\n",
    "\n",
    "2. reverse_string(str) - возвращает строку в обратном порядке.\n",
    "\n",
    "3. is_palindrome(str) - проверяет, является ли строка палиндромом.\n",
    "\n",
    "4. capitalize_string(str) - возвращает строку, где каждое слово начинается с большой буквы.\n",
    "\n",
    "\n",
    "\n",
    "Задача 2: Класс Точка\n",
    "\n",
    "Определите класс Point, который представляет точку в двумерном пространстве.\n",
    "\n",
    "- Конструктор, принимающий координаты x и y.\n",
    "\n",
    "- Метод distance_to_origin(), возвращающий расстояние от точки до начала координат.\n",
    "\n",
    "\n",
    "\n",
    "Задача 3: Модуль конвертации единиц\n",
    "\n",
    "Создайте модуль unit_converters.py, который содержит функции для конвертации единиц измерения:\n",
    "\n",
    "1. km_to_miles(km) - переводит километры в мили.\n",
    "\n",
    "2. celsius_to_fahrenheit(celsius) - переводит градусы Цельсия в градусы Фаренгейта.\n",
    "\n",
    "3. liters_to_gallons(liters) - переводит литры в галлоны.\n",
    "\n",
    "\n",
    "\n",
    "Задача 4: Класс Книга\n",
    "\n",
    "Определите класс Book, который содержит информацию о книге:\n",
    "\n",
    "- Атрибуты title, author, pages.\n",
    "\n",
    "- Метод is_long(), который возвращает True, если книга содержит более 500 страниц.\n",
    "\n",
    "\n",
    "\n",
    " Задача 5: Класс \"Студент\"\n",
    "\n",
    "Создайте класс Student, который моделирует студента.\n",
    "\n",
    "- Конструктор, который принимает имя студента и инициализирует атрибуты name и grades (пустой список).\n",
    "\n",
    "- Метод add_grade(grade), который добавляет оценку в список оценок.\n",
    "\n",
    "- Метод get_average(), возвращающий средний балл студента.\n"
   ]
  },
  {
   "cell_type": "code",
   "execution_count": 22,
   "id": "66889e30-c1d0-4ebc-9daa-6c872a93848a",
   "metadata": {},
   "outputs": [
    {
     "name": "stdout",
     "output_type": "stream",
     "text": [
      "13\n",
      "!idaM si eman ym ,acimedacA olleH\n",
      "True\n",
      "Hello academica, my name is madi!\n"
     ]
    }
   ],
   "source": [
    "# 1 Task\n",
    "import string_operations as so\n",
    "\n",
    "text1 = 'Hello Academica, my name is Madi!'\n",
    "text2 = 'KazaK'\n",
    "\n",
    "print(so.count_vowels(text1))\n",
    "\n",
    "print(so.reverse_string(text1))\n",
    "\n",
    "print(so.is_palindrome(text2))\n",
    "\n",
    "print(so.capitalize_string(text1))"
   ]
  },
  {
   "cell_type": "code",
   "execution_count": 32,
   "id": "e5ee2d9c-101a-4c36-ab97-65c0b5153cbd",
   "metadata": {},
   "outputs": [
    {
     "name": "stdout",
     "output_type": "stream",
     "text": [
      "5.0\n"
     ]
    }
   ],
   "source": [
    "# 2 Task\n",
    "class Point:\n",
    "    def __init__(self, x , y):\n",
    "        self.x = x\n",
    "        self.y = y\n",
    "\n",
    "    def distance_to_origin(self):\n",
    "        return (self.x**2 + self.y**2)**(1/2)\n",
    "\n",
    "first_point = Point(3,4)\n",
    "print(first_point.distance_to_origin())"
   ]
  },
  {
   "cell_type": "code",
   "execution_count": 36,
   "id": "d9c5f6bd-0ae8-4a1a-91e5-549fc157028c",
   "metadata": {},
   "outputs": [
    {
     "name": "stdout",
     "output_type": "stream",
     "text": [
      "16 killometers in miles -> 9.941936\n",
      "10 celcium in forengeight is -> 50.0\n",
      "200 litters in  gallon is -> 52.8344\n"
     ]
    }
   ],
   "source": [
    "# 3 Task\n",
    "import unit_converters as uc\n",
    "\n",
    "km = 16\n",
    "celcium = 10\n",
    "lit = 200\n",
    "\n",
    "print(f\"{km} killometers in miles ->\",uc.km_to_miles(km))\n",
    "print(f\"{celcium} celcium in forengeight is ->\",uc.celsius_to_fahrenheit(celcium))\n",
    "print(f\"{lit} litters in  gallon is ->\",uc.liters_to_gallons(lit))"
   ]
  },
  {
   "cell_type": "code",
   "execution_count": 40,
   "id": "fefea7e6-6784-490d-9a67-c5d2557c83d8",
   "metadata": {},
   "outputs": [
    {
     "name": "stdout",
     "output_type": "stream",
     "text": [
      "Book name is -> Man searching meaning, author is -> Viktor Frankl\n",
      "False\n"
     ]
    }
   ],
   "source": [
    "#4 Task\n",
    "\n",
    "class Book:\n",
    "    def __init__(self, author, title, pages):\n",
    "        self.author = author\n",
    "        self.title = title\n",
    "        self.pages = pages\n",
    "\n",
    "    def __str__(self):\n",
    "        return f\"Book name is -> {self.title}, author is -> {self.author}\"\n",
    "    \n",
    "    def is_long(self):\n",
    "        return self.pages > 500\n",
    "\n",
    "man_searching_meaning = Book(\"Viktor Frankl\",'Man searching meaning',165)\n",
    "print(man_searching_meaning)\n",
    "print(man_searching_meaning.is_long())"
   ]
  },
  {
   "cell_type": "code",
   "execution_count": 66,
   "id": "04a2ea92-9ccc-4dfc-b288-8585f373210d",
   "metadata": {},
   "outputs": [
    {
     "name": "stdout",
     "output_type": "stream",
     "text": [
      "3.47\n",
      "3.49\n"
     ]
    }
   ],
   "source": [
    "# 5 Task\n",
    "class Student:\n",
    "    def __init__(self, name, grades):\n",
    "        self.student_name = name\n",
    "        self.student_grades = grades\n",
    "\n",
    "    \n",
    "    def add_grade(self,grade):\n",
    "        self.student_grades.append(grade)\n",
    "        \n",
    "    def get_average(self):\n",
    "        return sum(self.student_grades)/len(self.student_grades)\n",
    "\n",
    "\n",
    "student_1 = Student('Madi', [3.4,3.5, 3.67, 4, 3.2, 3.0,3.67,3.33])\n",
    "print(f\"{student_1.get_average():.2f}\")\n",
    "student_1.add_grade(3.67)\n",
    "print(f\"{student_1.get_average():.2f}\")"
   ]
  },
  {
   "cell_type": "code",
   "execution_count": null,
   "id": "0d7a8877-f8b6-44de-b525-2b2db057702e",
   "metadata": {},
   "outputs": [],
   "source": []
  }
 ],
 "metadata": {
  "kernelspec": {
   "display_name": "Python 3 (ipykernel)",
   "language": "python",
   "name": "python3"
  },
  "language_info": {
   "codemirror_mode": {
    "name": "ipython",
    "version": 3
   },
   "file_extension": ".py",
   "mimetype": "text/x-python",
   "name": "python",
   "nbconvert_exporter": "python",
   "pygments_lexer": "ipython3",
   "version": "3.12.4"
  }
 },
 "nbformat": 4,
 "nbformat_minor": 5
}
