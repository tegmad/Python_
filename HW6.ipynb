{
 "cells": [
  {
   "cell_type": "raw",
   "id": "c1295229-a4ed-4082-b815-7920e7776440",
   "metadata": {},
   "source": [
    "ДЗ\n",
    "\n",
    "1. Функция Суммирования:\n",
    "\n",
    "   Напишите функцию sum_numbers, которая принимает два числа как аргументы и возвращает их сумму.\n",
    "\n",
    "\n",
    "\n",
    "2. Функция Проверки Четности:\n",
    "\n",
    "   Создайте функцию is_even, которая принимает одно число и возвращает True, если число четное, и False, если нечетное.\n",
    "\n",
    "\n",
    "\n",
    "3. Функция Поиска Максимума:\n",
    "\n",
    "   Реализуйте функцию find_max, которая принимает список чисел и возвращает самое большое число в списке.\n",
    "\n",
    "\n",
    "\n",
    "4. Функция Конвертации Температуры:\n",
    "\n",
    "   Напишите функцию celsius_to_fahrenheit, которая конвертирует температуру из градусов Цельсия в градусы Фаренгейта.\n",
    "\n",
    "\n",
    "\n",
    "5. Функция Подсчета Гласных:\n",
    "\n",
    "Создайте функцию count_vowels, которая принимает строку и возвращает количество гласных букв (а, е, и, о, у, ы, э, ю, я) в этой строке. Например, для строки \"привет\" функция должна вернуть 2."
   ]
  },
  {
   "cell_type": "code",
   "execution_count": 1,
   "id": "6aa81e5f-ed71-416c-ba2f-c0c2eda86cfc",
   "metadata": {},
   "outputs": [
    {
     "name": "stdout",
     "output_type": "stream",
     "text": [
      "6\n"
     ]
    }
   ],
   "source": [
    "def sum_numbers(*nums):\n",
    "    return sum(nums)\n",
    "\n",
    "print(sum_numbers(1,2,3))"
   ]
  },
  {
   "cell_type": "code",
   "execution_count": 13,
   "id": "303091b7-fd37-45cb-8141-c926353ef41f",
   "metadata": {},
   "outputs": [
    {
     "name": "stdout",
     "output_type": "stream",
     "text": [
      "7\n"
     ]
    }
   ],
   "source": [
    "sum_nums = lambda x,y : x + y\n",
    "\n",
    "print(sum_nums(3,4))"
   ]
  },
  {
   "cell_type": "code",
   "execution_count": 15,
   "id": "4a5540fa-a0ad-4950-a8d0-9ea2f54f7711",
   "metadata": {},
   "outputs": [
    {
     "name": "stdout",
     "output_type": "stream",
     "text": [
      "[False, True, False, True, False, True, False, True, False, True]\n"
     ]
    }
   ],
   "source": [
    "num_list = [1,2,3,4,5,6,7,8,9,10]\n",
    "\n",
    "is_even = map(lambda x : x % 2 == 0, num_list)\n",
    "\n",
    "print(list(is_even))"
   ]
  },
  {
   "cell_type": "code",
   "execution_count": 47,
   "id": "ca22c299-b5b2-4eb4-881a-133eea8b884f",
   "metadata": {},
   "outputs": [
    {
     "data": {
      "text/plain": [
       "10"
      ]
     },
     "execution_count": 47,
     "metadata": {},
     "output_type": "execute_result"
    }
   ],
   "source": [
    "def find_max(*nums):\n",
    "    return max(nums)\n",
    "\n",
    "def find_max1(*nums):\n",
    "    max_num = -1000000000\n",
    "    for i in nums:\n",
    "        if i > max_num:\n",
    "           max_num = i\n",
    "    return max_num\n",
    "\n",
    "find_max1(1,2,3,4,5,6,7,8,9,10)"
   ]
  },
  {
   "cell_type": "code",
   "execution_count": 35,
   "id": "2a2bc98f-a853-4973-b52e-2989d4e532de",
   "metadata": {},
   "outputs": [
    {
     "name": "stdout",
     "output_type": "stream",
     "text": [
      "Temperatue '10 celcium' in fahrenheit is ->  43.8\n"
     ]
    }
   ],
   "source": [
    "celsius_to_fahrenheit = lambda c : 32 + (9/5 + c)\n",
    "\n",
    "c = 10\n",
    "\n",
    "print(f\"Temperatue '{c} celcium' in fahrenheit is -> \",celsius_to_fahrenheit(c))"
   ]
  },
  {
   "cell_type": "code",
   "execution_count": 45,
   "id": "d467e180-b535-457e-93d5-0b03dee0b0b0",
   "metadata": {},
   "outputs": [
    {
     "name": "stdin",
     "output_type": "stream",
     "text": [
      "Enter some text привет\n"
     ]
    },
    {
     "name": "stdout",
     "output_type": "stream",
     "text": [
      "2\n"
     ]
    }
   ],
   "source": [
    "def count_vowels(text):\n",
    "    vowels = {'а', 'е', 'и', 'о','у', 'ы', 'э', 'ю', 'я'}\n",
    "    count = 0\n",
    "    for i in text.lower():\n",
    "        if i in vowels:\n",
    "            count += 1\n",
    "    return count\n",
    "\n",
    "text = input('Enter some text')\n",
    "print(count_vowels(text))\n",
    "\n",
    "    "
   ]
  },
  {
   "cell_type": "code",
   "execution_count": null,
   "id": "5c65e4ee-6b39-4c39-9bf4-6e0eae12cda1",
   "metadata": {},
   "outputs": [],
   "source": []
  }
 ],
 "metadata": {
  "kernelspec": {
   "display_name": "Python 3 (ipykernel)",
   "language": "python",
   "name": "python3"
  },
  "language_info": {
   "codemirror_mode": {
    "name": "ipython",
    "version": 3
   },
   "file_extension": ".py",
   "mimetype": "text/x-python",
   "name": "python",
   "nbconvert_exporter": "python",
   "pygments_lexer": "ipython3",
   "version": "3.12.4"
  }
 },
 "nbformat": 4,
 "nbformat_minor": 5
}
