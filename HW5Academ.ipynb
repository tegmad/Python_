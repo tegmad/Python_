{
 "cells": [
  {
   "cell_type": "code",
   "execution_count": 32,
   "id": "9f31faaa-0c86-4c58-92a0-048c9b430ff5",
   "metadata": {},
   "outputs": [
    {
     "name": "stdin",
     "output_type": "stream",
     "text": [
      "Enter the height of rectangle:  4\n",
      "Enter the wight of rectange:  5\n"
     ]
    },
    {
     "name": "stdout",
     "output_type": "stream",
     "text": [
      "*****\n",
      "*   *\n",
      "*   *\n",
      "*****\n"
     ]
    }
   ],
   "source": [
    "x = int(input('Enter the height of rectangle: '))\n",
    "y = int(input('Enter the wight of rectange: '))\n",
    "\n",
    "for i in range(x):\n",
    "    if i == 0  or i == x-1 :\n",
    "        print('*' * y )\n",
    "    else:\n",
    "        print('*' + ' '* (y - 2) + '*')\n",
    "    \n",
    "        \n",
    "    "
   ]
  },
  {
   "cell_type": "code",
   "execution_count": 7,
   "id": "de43c3a2-f130-4799-bb09-cac67f65c23d",
   "metadata": {},
   "outputs": [
    {
     "name": "stdin",
     "output_type": "stream",
     "text": [
      "Enter the first number:  3\n",
      "Enter the second number:  4\n"
     ]
    },
    {
     "name": "stdout",
     "output_type": "stream",
     "text": [
      "1 ^ 1 = 1, 1 ^ 2 = 1, 1 ^ 3 = 1, 1 ^ 4 = 1, \n",
      "\n",
      "2 ^ 1 = 2, 2 ^ 2 = 4, 2 ^ 3 = 8, 2 ^ 4 = 16, \n",
      "\n",
      "3 ^ 1 = 3, 3 ^ 2 = 9, 3 ^ 3 = 27, 3 ^ 4 = 81, \n",
      "\n"
     ]
    }
   ],
   "source": [
    "M = int(input('Enter the first number: ')) # 3\n",
    "N = int(input('Enter the second number: ')) # 4\n",
    "\n",
    "for i in range(1,M + 1):\n",
    "    for j in range(1,N +1):\n",
    "        print(f\"{i} ^ {j} = {i**j}, \", end=\"\")\n",
    "    print('\\n')\n",
    "        \n"
   ]
  },
  {
   "cell_type": "code",
   "execution_count": 14,
   "id": "6a211bc9-9be4-498f-9e3c-32e07963629a",
   "metadata": {},
   "outputs": [
    {
     "name": "stdin",
     "output_type": "stream",
     "text": [
      "Please enter seconds:  10\n"
     ]
    },
    {
     "name": "stdout",
     "output_type": "stream",
     "text": [
      "10\n",
      "9\n",
      "8\n",
      "7\n",
      "6\n",
      "5\n",
      "4\n",
      "3\n",
      "2\n",
      "1\n",
      "Time is up!\n"
     ]
    }
   ],
   "source": [
    "seconds = int(input('Please enter seconds: '))\n",
    "\n",
    "while seconds > 0 :\n",
    "    \n",
    "        print(seconds)\n",
    "        seconds -= 1\n",
    "else:\n",
    "    print('Time is up!')\n"
   ]
  },
  {
   "cell_type": "code",
   "execution_count": 12,
   "id": "373093b6-1f62-46a0-9baa-f5db92b27b93",
   "metadata": {
    "scrolled": true
   },
   "outputs": [
    {
     "name": "stdin",
     "output_type": "stream",
     "text": [
      "Введите число:  40\n"
     ]
    },
    {
     "name": "stdout",
     "output_type": "stream",
     "text": [
      "Загаданное число меньше!\n",
      "\n"
     ]
    },
    {
     "name": "stdin",
     "output_type": "stream",
     "text": [
      "Введите число:  30\n"
     ]
    },
    {
     "name": "stdout",
     "output_type": "stream",
     "text": [
      "Загаданное число больше!\n",
      "\n"
     ]
    },
    {
     "name": "stdin",
     "output_type": "stream",
     "text": [
      "Введите число:  34\n"
     ]
    },
    {
     "name": "stdout",
     "output_type": "stream",
     "text": [
      "Поздравляю вы нашли число, число попыток ->  3\n"
     ]
    }
   ],
   "source": [
    "def playGame(hidden_number):\n",
    "    count_of_chances = 0\n",
    "    while True:\n",
    "        count_of_chances += 1\n",
    "        number = int(input('Введите число: '))\n",
    "        \n",
    "        if hidden_number == number:\n",
    "            print('Поздравляю вы нашли число, число попыток ->', count_of_chances)\n",
    "            break\n",
    "            \n",
    "        elif hidden_number > number:\n",
    "            print('Загаданное число больше!\\n')\n",
    "\n",
    "        else:\n",
    "            print('Загаданное число меньше!\\n')\n",
    "\n",
    "\n",
    "playGame(34)"
   ]
  },
  {
   "cell_type": "code",
   "execution_count": 16,
   "id": "d8a9da8a-40a7-4184-8d78-be9a11d63ba5",
   "metadata": {},
   "outputs": [
    {
     "name": "stdout",
     "output_type": "stream",
     "text": [
      "0 1 1 2 3 5 8 13 21 34 "
     ]
    }
   ],
   "source": [
    "a, b = 0 , 1\n",
    "count = 10\n",
    "\n",
    "while count > 0:\n",
    "    print(a,end=' ')\n",
    "    a,b = b, a+b\n",
    "    count -=1\n"
   ]
  },
  {
   "cell_type": "code",
   "execution_count": null,
   "id": "5fd0b1c0-643b-49b6-836d-4d3e7058e1f9",
   "metadata": {},
   "outputs": [],
   "source": [
    "mupl"
   ]
  }
 ],
 "metadata": {
  "kernelspec": {
   "display_name": "Python 3 (ipykernel)",
   "language": "python",
   "name": "python3"
  },
  "language_info": {
   "codemirror_mode": {
    "name": "ipython",
    "version": 3
   },
   "file_extension": ".py",
   "mimetype": "text/x-python",
   "name": "python",
   "nbconvert_exporter": "python",
   "pygments_lexer": "ipython3",
   "version": "3.12.4"
  }
 },
 "nbformat": 4,
 "nbformat_minor": 5
}
