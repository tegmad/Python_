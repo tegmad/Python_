{
 "cells": [
  {
   "cell_type": "code",
   "execution_count": 17,
   "id": "08b3b2d6-feae-4d66-9c08-8a46d392a9c9",
   "metadata": {},
   "outputs": [
    {
     "name": "stdout",
     "output_type": "stream",
     "text": [
      "BMW M3 GTR 720 л.с заведен!\n"
     ]
    }
   ],
   "source": [
    "class Vehicle:\n",
    "    def __init__(self, brand, model):\n",
    "        self.brand = brand\n",
    "        self.model = model\n",
    "\n",
    "    def __str__(self):\n",
    "        return f\"{self.brand} {self.model} заведен!\"\n",
    "\n",
    "\n",
    "class Car(Vehicle):\n",
    "    def __init__(self, brand, model, horsepower):\n",
    "        super().__init__(brand, model)\n",
    "        self.horsepower = horsepower\n",
    "\n",
    "    def sometxt(self):\n",
    "        print(f\"{self.brand} {self.model} {self.horsepower} л.с заведен!\")\n",
    "\n",
    "\n",
    "car1 = Car(\"BMW\", \"M3 GTR\", 720)\n",
    "car1.sometxt()"
   ]
  },
  {
   "cell_type": "code",
   "execution_count": 25,
   "id": "5f73262f-9fad-4bff-a453-438359bea3d6",
   "metadata": {},
   "outputs": [
    {
     "name": "stdin",
     "output_type": "stream",
     "text": [
      "Please enter the file name:  file.txt\n"
     ]
    },
    {
     "name": "stdout",
     "output_type": "stream",
     "text": [
      "It's me Hello!\n",
      "\n",
      "Success!\n"
     ]
    }
   ],
   "source": [
    "def read_file():\n",
    "     while True:\n",
    "        try:\n",
    "            file_name = input('Please enter the file name: ')\n",
    "            if file_name == 'exit':\n",
    "                print('You leave from program...')\n",
    "                break\n",
    "            else:    \n",
    "                with open(file_name,'r') as file:\n",
    "                    print(file.read())\n",
    "                    print('\\nSuccess!')\n",
    "                    break\n",
    "        except FileNotFoundError:\n",
    "            print('File could not be found... try again!')\n",
    "\n",
    "read_file()"
   ]
  },
  {
   "cell_type": "code",
   "execution_count": null,
   "id": "3471fc41-e230-44c9-91d0-56269b1aaf6a",
   "metadata": {},
   "outputs": [],
   "source": []
  }
 ],
 "metadata": {
  "kernelspec": {
   "display_name": "Python 3 (ipykernel)",
   "language": "python",
   "name": "python3"
  },
  "language_info": {
   "codemirror_mode": {
    "name": "ipython",
    "version": 3
   },
   "file_extension": ".py",
   "mimetype": "text/x-python",
   "name": "python",
   "nbconvert_exporter": "python",
   "pygments_lexer": "ipython3",
   "version": "3.12.4"
  }
 },
 "nbformat": 4,
 "nbformat_minor": 5
}
