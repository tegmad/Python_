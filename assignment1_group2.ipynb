{
 "cells": [
  {
   "cell_type": "markdown",
   "id": "86183450",
   "metadata": {},
   "source": [
    "# Assignment 2\n",
    "**You need to work with numpy library. Write code and perform computations in the cells below. There are nine questions.**"
   ]
  },
  {
   "cell_type": "code",
   "execution_count": 3,
   "id": "8c9a649d",
   "metadata": {},
   "outputs": [],
   "source": [
    "import numpy as np"
   ]
  },
  {
   "cell_type": "markdown",
   "id": "2ef87cec",
   "metadata": {},
   "source": [
    "__1. Create a one-dimensional array with 12 elements containing numbers from 5 to 16. Display the product of all elements and their median value.__"
   ]
  },
  {
   "cell_type": "code",
   "execution_count": 17,
   "id": "88bf4730",
   "metadata": {},
   "outputs": [
    {
     "data": {
      "text/plain": [
       "10.5"
      ]
     },
     "execution_count": 17,
     "metadata": {},
     "output_type": "execute_result"
    }
   ],
   "source": [
    "arr = np.arange(5,17)\n",
    "arr\n",
    "\n",
    "np.median(arr)"
   ]
  },
  {
   "cell_type": "markdown",
   "id": "377f5888",
   "metadata": {},
   "source": [
    "__2. Create an array of numbers from 5 to 55 with a step of 7. Display the elements of the array that are greater than 25 and less than 50.__"
   ]
  },
  {
   "cell_type": "code",
   "execution_count": 23,
   "id": "75eb5e52",
   "metadata": {},
   "outputs": [
    {
     "name": "stdout",
     "output_type": "stream",
     "text": [
      "[26 33 40 47]\n"
     ]
    }
   ],
   "source": [
    "arr1 = np.arange(5,56,7)\n",
    "\n",
    "filtered_array = arr1[(arr1 > 25) & (arr1 < 50)]\n",
    "\n",
    "print(filtered_array)"
   ]
  },
  {
   "cell_type": "markdown",
   "id": "3b3b7e04",
   "metadata": {},
   "source": [
    "__3. Create a 6x6 matrix with column values ranging from 2 to 7.__"
   ]
  },
  {
   "cell_type": "code",
   "execution_count": 93,
   "id": "ce7d6e2d",
   "metadata": {},
   "outputs": [
    {
     "name": "stdout",
     "output_type": "stream",
     "text": [
      "[[2 3 4 5 6 7]\n",
      " [2 3 4 5 6 7]\n",
      " [2 3 4 5 6 7]\n",
      " [2 3 4 5 6 7]\n",
      " [2 3 4 5 6 7]\n",
      " [2 3 4 5 6 7]]\n"
     ]
    }
   ],
   "source": [
    "matrix = np.tile(np.arange(2,8),(6,1))\n",
    "\n",
    "print(matrix)"
   ]
  },
  {
   "cell_type": "markdown",
   "id": "38de63f1",
   "metadata": {},
   "source": [
    "__4. Create a random vector of size 12 and find its minimum and maximum values.__"
   ]
  },
  {
   "cell_type": "code",
   "execution_count": 69,
   "id": "0da4b6db",
   "metadata": {},
   "outputs": [
    {
     "name": "stdout",
     "output_type": "stream",
     "text": [
      "[[0.1459115  0.28367398 0.85249402]\n",
      " [0.51298414 0.07540738 0.39482981]\n",
      " [0.39364687 0.2957596  0.19043554]\n",
      " [0.69701627 0.39264347 0.73730444]] \n",
      "\n",
      "0.07540738396817304 \n",
      "\n",
      "0.8524940185694349 \n",
      "\n"
     ]
    }
   ],
   "source": [
    "vector = np.random.rand(4,3)\n",
    "\n",
    "min_of_array = np.min(vector)\n",
    "max_of_array = np.max(vector)\n",
    "print(vector,'\\n')\n",
    "\n",
    "print(min_of_array,'\\n')\n",
    "print(max_of_array,'\\n')"
   ]
  },
  {
   "cell_type": "markdown",
   "id": "d2563b26",
   "metadata": {},
   "source": [
    "__5. Create a 4x4 matrix of random numbers, subtract 3 from each element.__"
   ]
  },
  {
   "cell_type": "code",
   "execution_count": 71,
   "id": "e7bdb4e5",
   "metadata": {},
   "outputs": [
    {
     "name": "stdout",
     "output_type": "stream",
     "text": [
      "[[0.9941862  0.80281594 0.54003454 0.08564251]\n",
      " [0.90998178 0.47891299 0.48431289 0.70002657]\n",
      " [0.29396035 0.87130815 0.65006257 0.41330805]\n",
      " [0.70319756 0.73933536 0.82907821 0.23855007]] \n",
      "\n",
      "[[-2.0058138  -2.19718406 -2.45996546 -2.91435749]\n",
      " [-2.09001822 -2.52108701 -2.51568711 -2.29997343]\n",
      " [-2.70603965 -2.12869185 -2.34993743 -2.58669195]\n",
      " [-2.29680244 -2.26066464 -2.17092179 -2.76144993]]\n"
     ]
    }
   ],
   "source": [
    "matrix1 = np.random.rand(4,4)\n",
    "matrix2 = matrix1 - 3\n",
    "\n",
    "print(matrix1, '\\n')\n",
    "print(matrix2)"
   ]
  },
  {
   "cell_type": "markdown",
   "id": "7595cab2",
   "metadata": {},
   "source": [
    "__6. Check if two random matrices (3x3) are equal to each other.__"
   ]
  },
  {
   "cell_type": "code",
   "execution_count": 79,
   "id": "43ee2023",
   "metadata": {},
   "outputs": [
    {
     "name": "stdout",
     "output_type": "stream",
     "text": [
      "False\n"
     ]
    }
   ],
   "source": [
    "matrix_1 = np.random.rand(3,3)\n",
    "matrix_2 = np.random.rand(3,3)\n",
    "\n",
    "matrix_1 == matrix_2 \n",
    "\n",
    "print(np.allclose(matrix1,matrix2)) #"
   ]
  },
  {
   "cell_type": "markdown",
   "id": "a960a041",
   "metadata": {},
   "source": [
    "__7. Create a random matrix and swap two columns.__"
   ]
  },
  {
   "cell_type": "code",
   "execution_count": 85,
   "id": "11e22949",
   "metadata": {},
   "outputs": [
    {
     "name": "stdout",
     "output_type": "stream",
     "text": [
      "[[0.22725842 0.69867966 0.99179672]\n",
      " [0.23999749 0.66044529 0.34828988]\n",
      " [0.12785848 0.47971136 0.8650692 ]\n",
      " [0.71134389 0.90438935 0.48912094]\n",
      " [0.11333773 0.06564791 0.99239199]] \n",
      "\n",
      "\n",
      " [[0.69867966 0.22725842 0.99179672]\n",
      " [0.66044529 0.23999749 0.34828988]\n",
      " [0.47971136 0.12785848 0.8650692 ]\n",
      " [0.90438935 0.71134389 0.48912094]\n",
      " [0.06564791 0.11333773 0.99239199]]\n"
     ]
    }
   ],
   "source": [
    "rand_matrix = np.random.rand(5,3)\n",
    "print(rand_matrix,'\\n')\n",
    "\n",
    "rand_matrix[:,[0,1]] = rand_matrix[:,[1,0]]\n",
    "\n",
    "print('\\n',rand_matrix) #"
   ]
  },
  {
   "cell_type": "markdown",
   "id": "d792251d",
   "metadata": {},
   "source": [
    "__8. Create two matrices of size 3x3: one with values from 1 to 9, and the other from 10 to 18. Find the difference and the dot product of these matrices.__"
   ]
  },
  {
   "cell_type": "code",
   "execution_count": 73,
   "id": "1183e9d3",
   "metadata": {},
   "outputs": [
    {
     "name": "stdout",
     "output_type": "stream",
     "text": [
      "[[-9 -9 -9]\n",
      " [-9 -9 -9]\n",
      " [-9 -9 -9]] \n",
      "\n",
      "[[ 10  22  36]\n",
      " [ 52  70  90]\n",
      " [112 136 162]]\n"
     ]
    }
   ],
   "source": [
    "first_matrix = np.arange(1,10).reshape(3,3)\n",
    "second_matrix = np.arange(10,19).reshape(3,3)\n",
    "\n",
    "print(first_matrix - second_matrix, '\\n')\n",
    "\n",
    "print(first_matrix * second_matrix)"
   ]
  },
  {
   "cell_type": "markdown",
   "id": "c3c5f70c",
   "metadata": {},
   "source": [
    "__9. Create an array of 20 random integers in the range from 10 to 150. Replace all elements less than 30 with -1.__"
   ]
  },
  {
   "cell_type": "code",
   "execution_count": 67,
   "id": "e838c432",
   "metadata": {},
   "outputs": [
    {
     "data": {
      "text/plain": [
       "array([ 66,  59,  53, 105,  51,  56, 134,  -1,  38,  53, 149, 100,  36,\n",
       "        57, 130,  63, 141, 148,  54,  -1])"
      ]
     },
     "execution_count": 67,
     "metadata": {},
     "output_type": "execute_result"
    }
   ],
   "source": [
    "random_array = np.random.randint(10,151, size = 20)\n",
    "random_array[random_array < 30] = -1\n",
    "\n",
    "random_array"
   ]
  },
  {
   "cell_type": "code",
   "execution_count": null,
   "id": "29c31858-b3d3-4935-868f-190c83113585",
   "metadata": {},
   "outputs": [],
   "source": []
  }
 ],
 "metadata": {
  "kernelspec": {
   "display_name": "Python 3 (ipykernel)",
   "language": "python",
   "name": "python3"
  },
  "language_info": {
   "codemirror_mode": {
    "name": "ipython",
    "version": 3
   },
   "file_extension": ".py",
   "mimetype": "text/x-python",
   "name": "python",
   "nbconvert_exporter": "python",
   "pygments_lexer": "ipython3",
   "version": "3.12.4"
  }
 },
 "nbformat": 4,
 "nbformat_minor": 5
}
