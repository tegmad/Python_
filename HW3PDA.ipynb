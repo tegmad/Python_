{
 "cells": [
  {
   "cell_type": "code",
   "execution_count": 1,
   "id": "a52672b4-e600-4a7c-ba20-e0f146718ff3",
   "metadata": {},
   "outputs": [],
   "source": [
    "import numpy as np"
   ]
  },
  {
   "cell_type": "raw",
   "id": "39f045b7-db78-47c5-a6a5-c7701e2e36d1",
   "metadata": {},
   "source": [
    "Задача 1 - Сложение и изменение формы массивов:"
   ]
  },
  {
   "cell_type": "code",
   "execution_count": 45,
   "id": "02a44f37-6503-4056-926b-7d64814e9212",
   "metadata": {},
   "outputs": [
    {
     "name": "stdout",
     "output_type": "stream",
     "text": [
      "[[ 9  2]\n",
      " [10  4]\n",
      " [ 9  3]\n",
      " [ 6  2]\n",
      " [ 7  3]] \n",
      "\n",
      "[[9 3]\n",
      " [6 2]\n",
      " [9 1]\n",
      " [7 5]\n",
      " [8 8]] \n",
      "\n",
      "2 nd\n",
      " [[18  5]\n",
      " [16  6]\n",
      " [18  4]\n",
      " [13  7]\n",
      " [15 11]] \n",
      "\n",
      "3 th\n",
      " [[18  5 16  6 18]\n",
      " [ 4 13  7 15 11]] \n",
      "\n",
      "4 th \n",
      " 11.3\n"
     ]
    }
   ],
   "source": [
    "# Task 1.1 ● Создайте два одномерных массива из случайных целых чисел от 1 до 10\n",
    "\n",
    "arr1 = np.random.randint(1,11,size=(5,2))\n",
    "arr2 = np.random.randint(1,11,size=(5,2))\n",
    "print(arr1,'\\n')\n",
    "print(arr2,'\\n')\n",
    "\n",
    "# Task 1.2 ● Выполните поэлементное сложение этих двух массивов.\n",
    "arr3 = arr1 + arr2\n",
    "print('2 nd\\n',arr3, '\\n')\n",
    "\n",
    "# Task 1.3 ● Измените форму полученного массива на матрицу 2x5.\n",
    "arr4 = np.reshape(arr3, (2,5))\n",
    "print('3 th\\n',arr4, '\\n')\n",
    "\n",
    "# Task 1.4 ● Посчитайте среднее значение\n",
    "print('4 th \\n',np.mean(arr4))\n"
   ]
  },
  {
   "cell_type": "raw",
   "id": "21d70039-45e0-4e07-a549-5ffbfbd3ed54",
   "metadata": {},
   "source": [
    "Задача 2 - Работа со срезами и формами:"
   ]
  },
  {
   "cell_type": "code",
   "execution_count": 75,
   "id": "92e46a6a-4fb3-46b7-ae3e-6ed73b075b64",
   "metadata": {},
   "outputs": [
    {
     "name": "stdout",
     "output_type": "stream",
     "text": [
      "[[1 2 3]\n",
      " [4 5 6]\n",
      " [7 8 9]] \n",
      "\n",
      "[[1 2 3]] \n",
      "\n",
      "[[1]\n",
      " [4]\n",
      " [7]] \n",
      "\n",
      "[[1]\n",
      " [2]\n",
      " [3]\n",
      " [4]\n",
      " [5]\n",
      " [6]\n",
      " [7]\n",
      " [8]\n",
      " [9]] \n",
      "\n",
      "[1 2 3 4 5 6 7 8 9]\n"
     ]
    }
   ],
   "source": [
    "# Task 2.1 ● Создайте массив размером 3x3 и выведите его первую строку и первый столбец.\n",
    "first_arr = np.arange(1,10).reshape(3,3)\n",
    "print(first_arr,'\\n')\n",
    "print(first_arr[0:1,:], '\\n')\n",
    "print(first_arr[:,0:1], '\\n')\n",
    "\n",
    "# Task 2.2 ● Измените форму массива с помощью функции reshape и выведите его новую форму.\n",
    "first_arr = np.reshape(first_arr,(9,1))\n",
    "print(first_arr, '\\n')\n",
    "\n",
    "# Task 2.3 ● Используйте функцию flatten, чтобы преобразовать массив в одномерный.\n",
    "print(first_arr.flatten())"
   ]
  },
  {
   "cell_type": "raw",
   "id": "afec6695-dd59-4001-bda0-309728e11f63",
   "metadata": {},
   "source": [
    "\n",
    "Задача 3 - Генерация массива и объединение столбцов:\n",
    "\n",
    "● Создайте двумерный массив размером 4x3 с случайными целыми числами от 1 до 10.\n",
    "\n",
    "● Объедините столбцы этого массива в один столбец с использованием vstack."
   ]
  },
  {
   "cell_type": "code",
   "execution_count": 133,
   "id": "d8d2e950-a105-4ef6-829d-73a22824edce",
   "metadata": {},
   "outputs": [
    {
     "name": "stdout",
     "output_type": "stream",
     "text": [
      "[[ 2  8  5]\n",
      " [10 10 10]\n",
      " [ 4  8  1]\n",
      " [10 10  3]] \n",
      "\n"
     ]
    },
    {
     "data": {
      "text/plain": [
       "array([[ 2],\n",
       "       [10],\n",
       "       [ 4],\n",
       "       [10],\n",
       "       [ 8],\n",
       "       [10],\n",
       "       [ 8],\n",
       "       [10],\n",
       "       [ 5],\n",
       "       [10],\n",
       "       [ 1],\n",
       "       [ 3]])"
      ]
     },
     "execution_count": 133,
     "metadata": {},
     "output_type": "execute_result"
    }
   ],
   "source": [
    "# Task 3.1 ● Создайте двумерный массив размером 4x3 с случайными целыми числами от 1 до 10.\n",
    "second_arr = np.random.randint(1,11, size=(4,3))\n",
    "print(second_arr,'\\n')\n",
    "\n",
    "# Task 3.2 ● Объедините столбцы этого массива в один столбец с использованием vstack.\n",
    "another_arr = np.vstack([second_arr[:, 0:1], second_arr[:, 1:2], second_arr[:, 2:3]])\n",
    "another_arr"
   ]
  },
  {
   "cell_type": "raw",
   "id": "b6d755b4-4a20-4482-903a-97838d7997a5",
   "metadata": {},
   "source": [
    "Задача 4 - Генерация массива и индексирование:\n",
    "\n",
    "● Создайте массив из 9 случайных чисел от 1 до 30.\n",
    "\n",
    "● Найдите индекс максимального значения в массиве и выведите это значение."
   ]
  },
  {
   "cell_type": "code",
   "execution_count": 111,
   "id": "e598e501-1bfc-44e2-9a6e-9b1caef85326",
   "metadata": {},
   "outputs": [
    {
     "name": "stdout",
     "output_type": "stream",
     "text": [
      "[22 20 27 29 11 26  6  3 27]\n",
      "Maximum number in the array is -> [29] and it's index is -> 3\n"
     ]
    }
   ],
   "source": [
    "# Task 4.1 ● Создайте массив из 9 случайных чисел от 1 до 30.\n",
    "\n",
    "rand_arr = np.random.randint(1,30, size = 9)\n",
    "print(rand_arr)\n",
    "\n",
    "# Task 4.2 ● Найдите индекс максимального значения в массиве и выведите это значение.\n",
    "max_index = np.argmax(rand_arr)\n",
    "\n",
    "print(f\"Maximum number in the array is -> [{rand_arr[max_index]}] and it's index is ->\", max_index)\n"
   ]
  },
  {
   "cell_type": "raw",
   "id": "fea76b63-e6a1-48b2-bf48-d31c4d36d81b",
   "metadata": {},
   "source": [
    "Задача 5 - Операции над массивами:\n",
    "\n",
    "● Создайте два массива, каждый размером 2x2, состоящих из случайных целых чисел от 1 до 5.\n",
    "\n",
    "● Транспонируйте один из массивов.\n",
    "\n",
    "● Сложите транспонированный массив с другим массивом."
   ]
  },
  {
   "cell_type": "code",
   "execution_count": 119,
   "id": "47303ede-5da3-4a06-974a-da772570ae54",
   "metadata": {},
   "outputs": [
    {
     "name": "stdout",
     "output_type": "stream",
     "text": [
      "First matrix :\n",
      " [[1 1]\n",
      " [3 3]] \n",
      "\n",
      "Second matrix :\n",
      " [[5 1]\n",
      " [2 2]] \n",
      "\n",
      "Transposed first array: \n",
      " [[1 3]\n",
      " [1 3]] \n",
      "\n",
      "Sum of two array: \n",
      " [[6 2]\n",
      " [5 5]]\n"
     ]
    }
   ],
   "source": [
    "# Task 5.1 ● Создайте два массива, каждый размером 2x2, состоящих из случайных целых чисел от 1 до 5.\n",
    "\n",
    "rand_arr1 = np.random.randint(1,6, size = (2,2))\n",
    "rand_arr2 = np.random.randint(1,6, size = (2,2))\n",
    "print('First matrix :\\n',rand_arr1, '\\n')\n",
    "print('Second matrix :\\n',rand_arr2,'\\n')\n",
    "# Task 5.2 ● Транспонируйте один из массивов.\n",
    "print('Transposed first array: \\n',rand_arr1.T,'\\n')\n",
    "\n",
    "\n",
    "# Task 5.3 ● Сложите транспонированный массив с другим массивом.\n",
    "print('Sum of two array: \\n',rand_arr1 + rand_arr2)"
   ]
  },
  {
   "cell_type": "code",
   "execution_count": null,
   "id": "1f78c7e4-cf9e-4b35-9554-ac8af9290f9a",
   "metadata": {},
   "outputs": [],
   "source": []
  }
 ],
 "metadata": {
  "kernelspec": {
   "display_name": "Python 3 (ipykernel)",
   "language": "python",
   "name": "python3"
  },
  "language_info": {
   "codemirror_mode": {
    "name": "ipython",
    "version": 3
   },
   "file_extension": ".py",
   "mimetype": "text/x-python",
   "name": "python",
   "nbconvert_exporter": "python",
   "pygments_lexer": "ipython3",
   "version": "3.12.4"
  }
 },
 "nbformat": 4,
 "nbformat_minor": 5
}
